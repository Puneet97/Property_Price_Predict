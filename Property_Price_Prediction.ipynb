{
  "nbformat": 4,
  "nbformat_minor": 0,
  "metadata": {
    "colab": {
      "name": "Property_Price_Prediction.ipynb",
      "provenance": [],
      "collapsed_sections": []
    },
    "kernelspec": {
      "name": "python3",
      "display_name": "Python 3"
    },
    "language_info": {
      "name": "python"
    }
  },
  "cells": [
    {
      "cell_type": "markdown",
      "source": [
        "**Starting , by importing libraries and reading dataset**"
      ],
      "metadata": {
        "id": "6I4dEIBi_FQ7"
      }
    },
    {
      "cell_type": "code",
      "execution_count": null,
      "metadata": {
        "id": "b3oLodlkyb0Z"
      },
      "outputs": [],
      "source": [
        "import numpy as np\n",
        "import pandas as pd \n",
        "import seaborn as sns\n",
        "import matplotlib.pyplot as plt\n",
        "import os\n",
        "from sklearn.preprocessing import LabelEncoder\n",
        "le=LabelEncoder()\n",
        " "
      ]
    },
    {
      "cell_type": "code",
      "source": [
        "from google.colab import files\n",
        "uploaded=files.upload()"
      ],
      "metadata": {
        "id": "3hxenRHAy7gw",
        "colab": {
          "resources": {
            "http://localhost:8080/nbextensions/google.colab/files.js": {
              "data": "Ly8gQ29weXJpZ2h0IDIwMTcgR29vZ2xlIExMQwovLwovLyBMaWNlbnNlZCB1bmRlciB0aGUgQXBhY2hlIExpY2Vuc2UsIFZlcnNpb24gMi4wICh0aGUgIkxpY2Vuc2UiKTsKLy8geW91IG1heSBub3QgdXNlIHRoaXMgZmlsZSBleGNlcHQgaW4gY29tcGxpYW5jZSB3aXRoIHRoZSBMaWNlbnNlLgovLyBZb3UgbWF5IG9idGFpbiBhIGNvcHkgb2YgdGhlIExpY2Vuc2UgYXQKLy8KLy8gICAgICBodHRwOi8vd3d3LmFwYWNoZS5vcmcvbGljZW5zZXMvTElDRU5TRS0yLjAKLy8KLy8gVW5sZXNzIHJlcXVpcmVkIGJ5IGFwcGxpY2FibGUgbGF3IG9yIGFncmVlZCB0byBpbiB3cml0aW5nLCBzb2Z0d2FyZQovLyBkaXN0cmlidXRlZCB1bmRlciB0aGUgTGljZW5zZSBpcyBkaXN0cmlidXRlZCBvbiBhbiAiQVMgSVMiIEJBU0lTLAovLyBXSVRIT1VUIFdBUlJBTlRJRVMgT1IgQ09ORElUSU9OUyBPRiBBTlkgS0lORCwgZWl0aGVyIGV4cHJlc3Mgb3IgaW1wbGllZC4KLy8gU2VlIHRoZSBMaWNlbnNlIGZvciB0aGUgc3BlY2lmaWMgbGFuZ3VhZ2UgZ292ZXJuaW5nIHBlcm1pc3Npb25zIGFuZAovLyBsaW1pdGF0aW9ucyB1bmRlciB0aGUgTGljZW5zZS4KCi8qKgogKiBAZmlsZW92ZXJ2aWV3IEhlbHBlcnMgZm9yIGdvb2dsZS5jb2xhYiBQeXRob24gbW9kdWxlLgogKi8KKGZ1bmN0aW9uKHNjb3BlKSB7CmZ1bmN0aW9uIHNwYW4odGV4dCwgc3R5bGVBdHRyaWJ1dGVzID0ge30pIHsKICBjb25zdCBlbGVtZW50ID0gZG9jdW1lbnQuY3JlYXRlRWxlbWVudCgnc3BhbicpOwogIGVsZW1lbnQudGV4dENvbnRlbnQgPSB0ZXh0OwogIGZvciAoY29uc3Qga2V5IG9mIE9iamVjdC5rZXlzKHN0eWxlQXR0cmlidXRlcykpIHsKICAgIGVsZW1lbnQuc3R5bGVba2V5XSA9IHN0eWxlQXR0cmlidXRlc1trZXldOwogIH0KICByZXR1cm4gZWxlbWVudDsKfQoKLy8gTWF4IG51bWJlciBvZiBieXRlcyB3aGljaCB3aWxsIGJlIHVwbG9hZGVkIGF0IGEgdGltZS4KY29uc3QgTUFYX1BBWUxPQURfU0laRSA9IDEwMCAqIDEwMjQ7CgpmdW5jdGlvbiBfdXBsb2FkRmlsZXMoaW5wdXRJZCwgb3V0cHV0SWQpIHsKICBjb25zdCBzdGVwcyA9IHVwbG9hZEZpbGVzU3RlcChpbnB1dElkLCBvdXRwdXRJZCk7CiAgY29uc3Qgb3V0cHV0RWxlbWVudCA9IGRvY3VtZW50LmdldEVsZW1lbnRCeUlkKG91dHB1dElkKTsKICAvLyBDYWNoZSBzdGVwcyBvbiB0aGUgb3V0cHV0RWxlbWVudCB0byBtYWtlIGl0IGF2YWlsYWJsZSBmb3IgdGhlIG5leHQgY2FsbAogIC8vIHRvIHVwbG9hZEZpbGVzQ29udGludWUgZnJvbSBQeXRob24uCiAgb3V0cHV0RWxlbWVudC5zdGVwcyA9IHN0ZXBzOwoKICByZXR1cm4gX3VwbG9hZEZpbGVzQ29udGludWUob3V0cHV0SWQpOwp9CgovLyBUaGlzIGlzIHJvdWdobHkgYW4gYXN5bmMgZ2VuZXJhdG9yIChub3Qgc3VwcG9ydGVkIGluIHRoZSBicm93c2VyIHlldCksCi8vIHdoZXJlIHRoZXJlIGFyZSBtdWx0aXBsZSBhc3luY2hyb25vdXMgc3RlcHMgYW5kIHRoZSBQeXRob24gc2lkZSBpcyBnb2luZwovLyB0byBwb2xsIGZvciBjb21wbGV0aW9uIG9mIGVhY2ggc3RlcC4KLy8gVGhpcyB1c2VzIGEgUHJvbWlzZSB0byBibG9jayB0aGUgcHl0aG9uIHNpZGUgb24gY29tcGxldGlvbiBvZiBlYWNoIHN0ZXAsCi8vIHRoZW4gcGFzc2VzIHRoZSByZXN1bHQgb2YgdGhlIHByZXZpb3VzIHN0ZXAgYXMgdGhlIGlucHV0IHRvIHRoZSBuZXh0IHN0ZXAuCmZ1bmN0aW9uIF91cGxvYWRGaWxlc0NvbnRpbnVlKG91dHB1dElkKSB7CiAgY29uc3Qgb3V0cHV0RWxlbWVudCA9IGRvY3VtZW50LmdldEVsZW1lbnRCeUlkKG91dHB1dElkKTsKICBjb25zdCBzdGVwcyA9IG91dHB1dEVsZW1lbnQuc3RlcHM7CgogIGNvbnN0IG5leHQgPSBzdGVwcy5uZXh0KG91dHB1dEVsZW1lbnQubGFzdFByb21pc2VWYWx1ZSk7CiAgcmV0dXJuIFByb21pc2UucmVzb2x2ZShuZXh0LnZhbHVlLnByb21pc2UpLnRoZW4oKHZhbHVlKSA9PiB7CiAgICAvLyBDYWNoZSB0aGUgbGFzdCBwcm9taXNlIHZhbHVlIHRvIG1ha2UgaXQgYXZhaWxhYmxlIHRvIHRoZSBuZXh0CiAgICAvLyBzdGVwIG9mIHRoZSBnZW5lcmF0b3IuCiAgICBvdXRwdXRFbGVtZW50Lmxhc3RQcm9taXNlVmFsdWUgPSB2YWx1ZTsKICAgIHJldHVybiBuZXh0LnZhbHVlLnJlc3BvbnNlOwogIH0pOwp9CgovKioKICogR2VuZXJhdG9yIGZ1bmN0aW9uIHdoaWNoIGlzIGNhbGxlZCBiZXR3ZWVuIGVhY2ggYXN5bmMgc3RlcCBvZiB0aGUgdXBsb2FkCiAqIHByb2Nlc3MuCiAqIEBwYXJhbSB7c3RyaW5nfSBpbnB1dElkIEVsZW1lbnQgSUQgb2YgdGhlIGlucHV0IGZpbGUgcGlja2VyIGVsZW1lbnQuCiAqIEBwYXJhbSB7c3RyaW5nfSBvdXRwdXRJZCBFbGVtZW50IElEIG9mIHRoZSBvdXRwdXQgZGlzcGxheS4KICogQHJldHVybiB7IUl0ZXJhYmxlPCFPYmplY3Q+fSBJdGVyYWJsZSBvZiBuZXh0IHN0ZXBzLgogKi8KZnVuY3Rpb24qIHVwbG9hZEZpbGVzU3RlcChpbnB1dElkLCBvdXRwdXRJZCkgewogIGNvbnN0IGlucHV0RWxlbWVudCA9IGRvY3VtZW50LmdldEVsZW1lbnRCeUlkKGlucHV0SWQpOwogIGlucHV0RWxlbWVudC5kaXNhYmxlZCA9IGZhbHNlOwoKICBjb25zdCBvdXRwdXRFbGVtZW50ID0gZG9jdW1lbnQuZ2V0RWxlbWVudEJ5SWQob3V0cHV0SWQpOwogIG91dHB1dEVsZW1lbnQuaW5uZXJIVE1MID0gJyc7CgogIGNvbnN0IHBpY2tlZFByb21pc2UgPSBuZXcgUHJvbWlzZSgocmVzb2x2ZSkgPT4gewogICAgaW5wdXRFbGVtZW50LmFkZEV2ZW50TGlzdGVuZXIoJ2NoYW5nZScsIChlKSA9PiB7CiAgICAgIHJlc29sdmUoZS50YXJnZXQuZmlsZXMpOwogICAgfSk7CiAgfSk7CgogIGNvbnN0IGNhbmNlbCA9IGRvY3VtZW50LmNyZWF0ZUVsZW1lbnQoJ2J1dHRvbicpOwogIGlucHV0RWxlbWVudC5wYXJlbnRFbGVtZW50LmFwcGVuZENoaWxkKGNhbmNlbCk7CiAgY2FuY2VsLnRleHRDb250ZW50ID0gJ0NhbmNlbCB1cGxvYWQnOwogIGNvbnN0IGNhbmNlbFByb21pc2UgPSBuZXcgUHJvbWlzZSgocmVzb2x2ZSkgPT4gewogICAgY2FuY2VsLm9uY2xpY2sgPSAoKSA9PiB7CiAgICAgIHJlc29sdmUobnVsbCk7CiAgICB9OwogIH0pOwoKICAvLyBXYWl0IGZvciB0aGUgdXNlciB0byBwaWNrIHRoZSBmaWxlcy4KICBjb25zdCBmaWxlcyA9IHlpZWxkIHsKICAgIHByb21pc2U6IFByb21pc2UucmFjZShbcGlja2VkUHJvbWlzZSwgY2FuY2VsUHJvbWlzZV0pLAogICAgcmVzcG9uc2U6IHsKICAgICAgYWN0aW9uOiAnc3RhcnRpbmcnLAogICAgfQogIH07CgogIGNhbmNlbC5yZW1vdmUoKTsKCiAgLy8gRGlzYWJsZSB0aGUgaW5wdXQgZWxlbWVudCBzaW5jZSBmdXJ0aGVyIHBpY2tzIGFyZSBub3QgYWxsb3dlZC4KICBpbnB1dEVsZW1lbnQuZGlzYWJsZWQgPSB0cnVlOwoKICBpZiAoIWZpbGVzKSB7CiAgICByZXR1cm4gewogICAgICByZXNwb25zZTogewogICAgICAgIGFjdGlvbjogJ2NvbXBsZXRlJywKICAgICAgfQogICAgfTsKICB9CgogIGZvciAoY29uc3QgZmlsZSBvZiBmaWxlcykgewogICAgY29uc3QgbGkgPSBkb2N1bWVudC5jcmVhdGVFbGVtZW50KCdsaScpOwogICAgbGkuYXBwZW5kKHNwYW4oZmlsZS5uYW1lLCB7Zm9udFdlaWdodDogJ2JvbGQnfSkpOwogICAgbGkuYXBwZW5kKHNwYW4oCiAgICAgICAgYCgke2ZpbGUudHlwZSB8fCAnbi9hJ30pIC0gJHtmaWxlLnNpemV9IGJ5dGVzLCBgICsKICAgICAgICBgbGFzdCBtb2RpZmllZDogJHsKICAgICAgICAgICAgZmlsZS5sYXN0TW9kaWZpZWREYXRlID8gZmlsZS5sYXN0TW9kaWZpZWREYXRlLnRvTG9jYWxlRGF0ZVN0cmluZygpIDoKICAgICAgICAgICAgICAgICAgICAgICAgICAgICAgICAgICAgJ24vYSd9IC0gYCkpOwogICAgY29uc3QgcGVyY2VudCA9IHNwYW4oJzAlIGRvbmUnKTsKICAgIGxpLmFwcGVuZENoaWxkKHBlcmNlbnQpOwoKICAgIG91dHB1dEVsZW1lbnQuYXBwZW5kQ2hpbGQobGkpOwoKICAgIGNvbnN0IGZpbGVEYXRhUHJvbWlzZSA9IG5ldyBQcm9taXNlKChyZXNvbHZlKSA9PiB7CiAgICAgIGNvbnN0IHJlYWRlciA9IG5ldyBGaWxlUmVhZGVyKCk7CiAgICAgIHJlYWRlci5vbmxvYWQgPSAoZSkgPT4gewogICAgICAgIHJlc29sdmUoZS50YXJnZXQucmVzdWx0KTsKICAgICAgfTsKICAgICAgcmVhZGVyLnJlYWRBc0FycmF5QnVmZmVyKGZpbGUpOwogICAgfSk7CiAgICAvLyBXYWl0IGZvciB0aGUgZGF0YSB0byBiZSByZWFkeS4KICAgIGxldCBmaWxlRGF0YSA9IHlpZWxkIHsKICAgICAgcHJvbWlzZTogZmlsZURhdGFQcm9taXNlLAogICAgICByZXNwb25zZTogewogICAgICAgIGFjdGlvbjogJ2NvbnRpbnVlJywKICAgICAgfQogICAgfTsKCiAgICAvLyBVc2UgYSBjaHVua2VkIHNlbmRpbmcgdG8gYXZvaWQgbWVzc2FnZSBzaXplIGxpbWl0cy4gU2VlIGIvNjIxMTU2NjAuCiAgICBsZXQgcG9zaXRpb24gPSAwOwogICAgZG8gewogICAgICBjb25zdCBsZW5ndGggPSBNYXRoLm1pbihmaWxlRGF0YS5ieXRlTGVuZ3RoIC0gcG9zaXRpb24sIE1BWF9QQVlMT0FEX1NJWkUpOwogICAgICBjb25zdCBjaHVuayA9IG5ldyBVaW50OEFycmF5KGZpbGVEYXRhLCBwb3NpdGlvbiwgbGVuZ3RoKTsKICAgICAgcG9zaXRpb24gKz0gbGVuZ3RoOwoKICAgICAgY29uc3QgYmFzZTY0ID0gYnRvYShTdHJpbmcuZnJvbUNoYXJDb2RlLmFwcGx5KG51bGwsIGNodW5rKSk7CiAgICAgIHlpZWxkIHsKICAgICAgICByZXNwb25zZTogewogICAgICAgICAgYWN0aW9uOiAnYXBwZW5kJywKICAgICAgICAgIGZpbGU6IGZpbGUubmFtZSwKICAgICAgICAgIGRhdGE6IGJhc2U2NCwKICAgICAgICB9LAogICAgICB9OwoKICAgICAgbGV0IHBlcmNlbnREb25lID0gZmlsZURhdGEuYnl0ZUxlbmd0aCA9PT0gMCA/CiAgICAgICAgICAxMDAgOgogICAgICAgICAgTWF0aC5yb3VuZCgocG9zaXRpb24gLyBmaWxlRGF0YS5ieXRlTGVuZ3RoKSAqIDEwMCk7CiAgICAgIHBlcmNlbnQudGV4dENvbnRlbnQgPSBgJHtwZXJjZW50RG9uZX0lIGRvbmVgOwoKICAgIH0gd2hpbGUgKHBvc2l0aW9uIDwgZmlsZURhdGEuYnl0ZUxlbmd0aCk7CiAgfQoKICAvLyBBbGwgZG9uZS4KICB5aWVsZCB7CiAgICByZXNwb25zZTogewogICAgICBhY3Rpb246ICdjb21wbGV0ZScsCiAgICB9CiAgfTsKfQoKc2NvcGUuZ29vZ2xlID0gc2NvcGUuZ29vZ2xlIHx8IHt9OwpzY29wZS5nb29nbGUuY29sYWIgPSBzY29wZS5nb29nbGUuY29sYWIgfHwge307CnNjb3BlLmdvb2dsZS5jb2xhYi5fZmlsZXMgPSB7CiAgX3VwbG9hZEZpbGVzLAogIF91cGxvYWRGaWxlc0NvbnRpbnVlLAp9Owp9KShzZWxmKTsK",
              "ok": true,
              "headers": [
                [
                  "content-type",
                  "application/javascript"
                ]
              ],
              "status": 200,
              "status_text": ""
            }
          },
          "base_uri": "https://localhost:8080/",
          "height": 73
        },
        "outputId": "c6c5a8f9-52a2-4067-a841-95a27c3983b9"
      },
      "execution_count": null,
      "outputs": [
        {
          "output_type": "display_data",
          "data": {
            "text/plain": [
              "<IPython.core.display.HTML object>"
            ],
            "text/html": [
              "\n",
              "     <input type=\"file\" id=\"files-681b5a28-1259-457a-a5ec-c37d490de958\" name=\"files[]\" multiple disabled\n",
              "        style=\"border:none\" />\n",
              "     <output id=\"result-681b5a28-1259-457a-a5ec-c37d490de958\">\n",
              "      Upload widget is only available when the cell has been executed in the\n",
              "      current browser session. Please rerun this cell to enable.\n",
              "      </output>\n",
              "      <script src=\"/nbextensions/google.colab/files.js\"></script> "
            ]
          },
          "metadata": {}
        },
        {
          "output_type": "stream",
          "name": "stdout",
          "text": [
            "Saving Property_Price_Train.csv to Property_Price_Train (3).csv\n"
          ]
        }
      ]
    },
    {
      "cell_type": "code",
      "source": [
        "from google.colab import files\n",
        "uploaded=files.upload()\n"
      ],
      "metadata": {
        "colab": {
          "resources": {
            "http://localhost:8080/nbextensions/google.colab/files.js": {
              "data": "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",
              "ok": true,
              "headers": [
                [
                  "content-type",
                  "application/javascript"
                ]
              ],
              "status": 200,
              "status_text": ""
            }
          },
          "base_uri": "https://localhost:8080/",
          "height": 73
        },
        "id": "OCgA9s5caccQ",
        "outputId": "b3d483f5-b12c-4b9f-ae24-0a8d4dccc6fa"
      },
      "execution_count": null,
      "outputs": [
        {
          "output_type": "display_data",
          "data": {
            "text/plain": [
              "<IPython.core.display.HTML object>"
            ],
            "text/html": [
              "\n",
              "     <input type=\"file\" id=\"files-f5d15511-ecbe-43c4-b0b9-1d64dd0f855f\" name=\"files[]\" multiple disabled\n",
              "        style=\"border:none\" />\n",
              "     <output id=\"result-f5d15511-ecbe-43c4-b0b9-1d64dd0f855f\">\n",
              "      Upload widget is only available when the cell has been executed in the\n",
              "      current browser session. Please rerun this cell to enable.\n",
              "      </output>\n",
              "      <script src=\"/nbextensions/google.colab/files.js\"></script> "
            ]
          },
          "metadata": {}
        },
        {
          "output_type": "stream",
          "name": "stdout",
          "text": [
            "Saving Property_Price_Test.csv to Property_Price_Test (2).csv\n"
          ]
        }
      ]
    },
    {
      "cell_type": "code",
      "source": [
        "import io\n",
        "ppt=pd.read_csv(io.BytesIO(uploaded['Property_Price_Train.csv']))"
      ],
      "metadata": {
        "id": "N1keJ6ZaYExo"
      },
      "execution_count": null,
      "outputs": []
    },
    {
      "cell_type": "code",
      "source": [
        "import io\n",
        "pt=pd.read_csv(io.BytesIO(uploaded['Property_Price_Test.csv']))"
      ],
      "metadata": {
        "id": "Q-i7MiqVacel"
      },
      "execution_count": null,
      "outputs": []
    },
    {
      "cell_type": "markdown",
      "source": [
        "#**1  Understanding the Train Data ** "
      ],
      "metadata": {
        "id": "WX7J1JuLZ_X0"
      }
    },
    {
      "cell_type": "code",
      "source": [
        "#pd.read_csv('Property_Price_Test.csv')\n",
        "#pd.read_csv('Property_Price_Train.csv')"
      ],
      "metadata": {
        "id": "XLCTsk4twhuR"
      },
      "execution_count": null,
      "outputs": []
    },
    {
      "cell_type": "code",
      "source": [
        "#print(ppt.head())\n",
        "#print(pt.head())\n",
        "#ppt.describe()   Knowing more about the dataset\n",
        "#ppt.info()\n",
        "#ppt.shape,pt.shape"
      ],
      "metadata": {
        "id": "pzdNDnb5Yh4u"
      },
      "execution_count": null,
      "outputs": []
    },
    {
      "cell_type": "markdown",
      "source": [
        "##**Filling the Null Value**"
      ],
      "metadata": {
        "id": "nKJtudqowj7a"
      }
    },
    {
      "cell_type": "code",
      "source": [
        "#Removing Duplicates\n",
        "#ppt1 = ppt.drop_duplicates()\n",
        "\n",
        "#Replacing Missing Values \n",
        "ppt.Zoning_Class=ppt.Zoning_Class.fillna(\"RHD\")\n",
        "ppt.Utility_Type=ppt.Utility_Type.fillna(\"AllPub\")\n",
        "ppt.Exterior1st=ppt.Exterior1st.fillna(\"CB\")\n",
        "ppt.Exterior2nd=ppt.Exterior2nd.fillna(\"Stone\")\n",
        "ppt.Brick_Veneer_Type=ppt.Brick_Veneer_Type.fillna(\"BrkCmn\")\n",
        "ppt.BsmtFinSF1=ppt.BsmtFinSF1.fillna(ppt.BsmtFinSF1.mean())\n",
        "ppt.Lot_Extent=ppt.Lot_Extent.fillna(ppt.Lot_Extent.mean())\n",
        "ppt.Garage_Built_Year=ppt.Garage_Built_Year.fillna(ppt.Garage_Built_Year.mean())\n",
        "ppt.Fireplace_Quality=ppt.Fireplace_Quality.fillna(\"Ex\")\n",
        "ppt.Garage_Finish_Year=ppt.Garage_Finish_Year.fillna(\"Fin\")\n",
        "ppt.Garage=ppt.Garage.fillna(\"CarPort\")\n",
        "ppt.Garage_Condition=ppt.Garage_Condition.fillna(\"Ex\")\n",
        "ppt.Basement_Height=ppt.Basement_Height.fillna(\"Fa\")\n",
        "ppt.Basement_Condition=ppt.Basement_Condition.fillna(\"Po\")\n",
        "ppt.Exposure_Level=ppt.Exposure_Level.fillna(\"Mn\")\n",
        "ppt.BsmtFinType1=ppt.BsmtFinType1.fillna(\"LwQ\")\n",
        "ppt.BsmtFinType2=ppt.BsmtFinType2.fillna(\"GLQ\")\n",
        "ppt.Garage_Quality=ppt.Garage_Quality.fillna(\"Po\")\n",
        "ppt.Electrical_System=ppt.Electrical_System.fillna(\"Mix\")\n",
        "ppt.Fireplace_Quality=ppt.Fireplace_Quality.fillna(\"Po\")\n",
        "ppt.Brick_Veneer_Area=ppt.Brick_Veneer_Area.fillna(ppt.Brick_Veneer_Area.mean())\n",
        "\n",
        "#Removing Unnecessary Columns\n",
        "ppt.drop(['Id','Pool_Quality','Fence_Quality','Lane_Type','Miscellaneous_Feature'],axis=1, inplace=True)\n",
        "\n",
        "#replacing zero values in price column with the mean value\n",
        "#newdf['price'].replace({0 : newdf['price'].mean()}, inplace = True)"
      ],
      "metadata": {
        "id": "0sJZUfab02gu"
      },
      "execution_count": null,
      "outputs": []
    },
    {
      "cell_type": "code",
      "source": [
        "#ppt.info()"
      ],
      "metadata": {
        "id": "QrocWzkpXTeV"
      },
      "execution_count": null,
      "outputs": []
    },
    {
      "cell_type": "markdown",
      "source": [
        "#**DTYPE CONVERSION OF TRAIN DATA**"
      ],
      "metadata": {
        "id": "UZZ56kd196kW"
      }
    },
    {
      "cell_type": "code",
      "source": [
        "ppt.Zoning_Class=le.fit_transform(ppt.Zoning_Class)\n",
        "ppt.Lot_Extent=le.fit_transform(ppt.Lot_Extent)\n",
        "ppt.Utility_Type=le.fit_transform(ppt.Utility_Type)\n",
        "ppt.Exterior1st=le.fit_transform(ppt.Exterior1st)\n",
        "ppt.Exterior2nd=le.fit_transform(ppt.Exterior2nd)\n",
        "ppt.Brick_Veneer_Type=le.fit_transform(ppt.Brick_Veneer_Type)\n",
        "ppt.Brick_Veneer_Area=le.fit_transform(ppt.Brick_Veneer_Area)\n",
        "ppt.Underground_Full_Bathroom=le.fit_transform(ppt.Underground_Full_Bathroom)\n",
        "ppt.Underground_Half_Bathroom=le.fit_transform(ppt.Underground_Half_Bathroom)\n",
        "ppt.Kitchen_Quality=le.fit_transform(ppt.Kitchen_Quality)\n",
        "ppt.Functional_Rate=le.fit_transform(ppt.Functional_Rate)\n",
        "ppt.Fireplace_Quality=le.fit_transform(ppt.Fireplace_Quality)\n",
        "ppt.Garage=le.fit_transform(ppt.Garage)\n",
        "ppt.Garage_Built_Year=le.fit_transform(ppt.Garage_Built_Year)\n",
        "ppt.Heating_Quality=le.fit_transform(ppt.Heating_Quality)\n",
        "ppt.Heating_Type=le.fit_transform(ppt.Heating_Type)\n",
        "ppt.Foundation_Type=le.fit_transform(ppt.Foundation_Type)\n",
        "ppt.Exterior_Condition=le.fit_transform(ppt.Exterior_Condition)\n",
        "ppt.Exterior_Material=le.fit_transform(ppt.Exterior_Material)\n",
        "ppt.Roof_Quality=le.fit_transform(ppt.Roof_Quality)\n",
        "ppt.Roof_Design=le.fit_transform(ppt.Roof_Design)\n",
        "ppt.House_Design=le.fit_transform(ppt.House_Design)\n",
        "ppt.House_Type=le.fit_transform(ppt.House_Type)\n",
        "ppt.Condition2=le.fit_transform(ppt.Condition2)\n",
        "ppt.Condition1=le.fit_transform(ppt.Condition1)\n",
        "ppt.Neighborhood=le.fit_transform(ppt.Neighborhood)\n",
        "ppt.Property_Slope=le.fit_transform(ppt.Property_Slope)\n",
        "ppt.Lot_Configuration=le.fit_transform(ppt.Lot_Configuration)\n",
        "ppt.Property_Shape=le.fit_transform(ppt.Property_Shape)\n",
        "ppt.Road_Type=le.fit_transform(ppt.Road_Type)\n",
        "ppt.Air_Conditioning=le.fit_transform(ppt.Air_Conditioning)\n",
        "ppt.Land_Outline=le.fit_transform(ppt.Land_Outline)\n",
        "ppt.Brick_Veneer_Area=le.fit_transform(ppt.Brick_Veneer_Area)\n",
        "ppt.Basement_Height=le.fit_transform(ppt.Basement_Height)\n",
        "ppt.Basement_Condition=le.fit_transform(ppt.Basement_Condition)\n",
        "ppt.Exposure_Level=le.fit_transform(ppt.Exposure_Level)\n",
        "ppt.BsmtFinType1=le.fit_transform(ppt.BsmtFinType1)\n",
        "ppt.BsmtFinType2=le.fit_transform(ppt.BsmtFinType2)\n",
        "ppt.Garage_Finish_Year=le.fit_transform(ppt.Garage_Finish_Year)\n",
        "ppt.Garage_Quality=le.fit_transform(ppt.Garage_Quality)\n",
        "ppt.Land_Condition=le.fit_transform(ppt.Garage_Condition)\n",
        "ppt.Pavedd_Drive=le.fit_transform(ppt.Pavedd_Drive)\n",
        "ppt.Garage_Condition=le.fit_transform(ppt.Garage_Condition)\n",
        "ppt.Electrical_System=le.fit_transform(ppt.Electrical_System)\n",
        "ppt.Sale_Condition=le.fit_transform(ppt.Sale_Condition)\n",
        "ppt.Sale_Type=le.fit_transform(ppt.Sale_Type)\n"
      ],
      "metadata": {
        "id": "Y8jzFV4p8rkW",
        "colab": {
          "base_uri": "https://localhost:8080/"
        },
        "outputId": "75214ab2-1cde-4724-dacf-3faac8002720"
      },
      "execution_count": null,
      "outputs": [
        {
          "output_type": "stream",
          "name": "stderr",
          "text": [
            "/usr/local/lib/python3.7/dist-packages/ipykernel_launcher.py:41: UserWarning: Pandas doesn't allow columns to be created via a new attribute name - see https://pandas.pydata.org/pandas-docs/stable/indexing.html#attribute-access\n"
          ]
        }
      ]
    },
    {
      "cell_type": "code",
      "source": [
        "#ppt.info()"
      ],
      "metadata": {
        "id": "jbYFmgdd-46O"
      },
      "execution_count": null,
      "outputs": []
    },
    {
      "cell_type": "code",
      "source": [
        "ppt.shape"
      ],
      "metadata": {
        "colab": {
          "base_uri": "https://localhost:8080/"
        },
        "id": "Y4w5-CqiDtVt",
        "outputId": "3f3f8328-2040-4742-cbf8-073c5b80688b"
      },
      "execution_count": null,
      "outputs": [
        {
          "output_type": "execute_result",
          "data": {
            "text/plain": [
              "(1459, 76)"
            ]
          },
          "metadata": {},
          "execution_count": 9
        }
      ]
    },
    {
      "cell_type": "markdown",
      "source": [
        "**## Cleaning Test Data**"
      ],
      "metadata": {
        "id": "G0vIComqa8kt"
      }
    },
    {
      "cell_type": "code",
      "source": [
        "pt.describe()       #Knowing more about the dataset"
      ],
      "metadata": {
        "id": "9urvVBRLbGVV"
      },
      "execution_count": null,
      "outputs": []
    },
    {
      "cell_type": "code",
      "source": [
        "#pt.info()"
      ],
      "metadata": {
        "id": "XtKj4WwabGXM"
      },
      "execution_count": null,
      "outputs": []
    },
    {
      "cell_type": "markdown",
      "source": [
        "**Filling the Null Value of Test Data**"
      ],
      "metadata": {
        "id": "ZV8DwFa-AzGu"
      }
    },
    {
      "cell_type": "code",
      "source": [
        "#removing duplicates\n",
        "#ppt1 = pt.drop_duplicates()\n",
        "\n",
        "#replacing missing values \n",
        "pt.Lot_Extent=pt.Lot_Extent.fillna(pt.Lot_Extent.mean())\n",
        "pt.Garage_Built_Year=pt.Garage_Built_Year.fillna(pt.Garage_Built_Year.mean())\n",
        "pt.Zoning_Class=pt.Zoning_Class.fillna(\"RHD\")\n",
        "pt.Utility_Type=pt.Utility_Type.fillna(\"AllPub\")\n",
        "pt.Exterior1st=pt.Exterior1st.fillna(\"CB\")\n",
        "pt.Exterior2nd=pt.Exterior2nd.fillna(\"Stone\")\n",
        "pt.Garage_Finish_Year=pt.Garage_Finish_Year.fillna(\"Fin\")\n",
        "pt.Garage=pt.Garage.fillna(\"CarPort\")\n",
        "pt.Garage_Condition=pt.Garage_Condition.fillna(\"Ex\")\n",
        "pt.Fireplace_Quality=pt.Fireplace_Quality.fillna(\"Po\")\n",
        "pt.Garage_Quality=pt.Garage_Quality.fillna(\"Ex\")\n",
        "pt.BsmtFinType2=pt.BsmtFinType2.fillna(\"GLQ\")\n",
        "pt.BsmtFinType1=pt.BsmtFinType1.fillna(\"LwQ\")\n",
        "pt.Exposure_Level=pt.Exposure_Level.fillna(\"Mn\")\n",
        "pt.Basement_Condition=pt.Basement_Condition.fillna(\"Po\")\n",
        "pt.Basement_Height=pt.Basement_Height.fillna(\"Fa\")\n",
        "pt.Brick_Veneer_Area=pt.Brick_Veneer_Area.fillna(pt.Brick_Veneer_Area.mean())\n",
        "pt.Brick_Veneer_Type=pt.Brick_Veneer_Type.fillna(\"BrkCmn\")\n",
        "pt.BsmtFinSF1=pt.BsmtFinSF1.fillna(pt.BsmtFinSF1.mean())\n",
        "pt.BsmtFinSF2=pt.BsmtFinSF2.fillna(pt.BsmtFinSF2.mean())\n",
        "pt.BsmtUnfSF=pt.BsmtUnfSF.fillna(pt.BsmtUnfSF.mean())\n",
        "pt.Total_Basement_Area=pt.Total_Basement_Area.fillna(pt.Total_Basement_Area.mean())\n",
        "pt.Underground_Full_Bathroom=pt.Underground_Full_Bathroom.fillna(3.0)\n",
        "pt.Underground_Half_Bathroom=pt.Underground_Half_Bathroom.fillna(2.0)\n",
        "pt.Kitchen_Quality=pt.Kitchen_Quality.fillna(\"Fa\")\n",
        "pt.Functional_Rate=pt.Functional_Rate.fillna(\"MS\")\n",
        "pt.Garage_Size=pt.Garage_Size.fillna(5.0)\n",
        "pt.Garage_Area=pt.Garage_Area.fillna(pt.Garage_Area.mean())\n",
        "pt.Sale_Type=pt.Sale_Type.fillna(\"Con\")\n",
        "\n",
        "\n",
        "#newdf['price'].replace({0 : newdf['price'].mean()}, inplace = True)"
      ],
      "metadata": {
        "id": "YjCTAdVrb8ju"
      },
      "execution_count": null,
      "outputs": []
    },
    {
      "cell_type": "code",
      "source": [
        "#removing unnecessary columns\n",
        "\n",
        "pt.drop(['Id','Pool_Quality','Fence_Quality','Miscellaneous_Feature','Lane_Type'],axis=1, inplace=True)"
      ],
      "metadata": {
        "id": "KWLy7qD-QBzK"
      },
      "execution_count": null,
      "outputs": []
    },
    {
      "cell_type": "code",
      "source": [
        "pt.info()"
      ],
      "metadata": {
        "id": "1mum7rSMcDIl"
      },
      "execution_count": null,
      "outputs": []
    },
    {
      "cell_type": "markdown",
      "source": [
        "**Exploratory Data Analysis**"
      ],
      "metadata": {
        "id": "7b_glVPhZ7qf"
      }
    },
    {
      "cell_type": "markdown",
      "source": [
        "**DTYPE CONVERSION OF TEST DATA**"
      ],
      "metadata": {
        "id": "Ld2TA3dlAg5L"
      }
    },
    {
      "cell_type": "code",
      "source": [
        "\n",
        "pt.Zoning_Class=le.fit_transform(pt.Zoning_Class)\n",
        "pt.Lot_Extent=le.fit_transform(pt.Lot_Extent)\n",
        "pt.Utility_Type=le.fit_transform(pt.Utility_Type)\n",
        "pt.Exterior1st=le.fit_transform(pt.Exterior1st)\n",
        "pt.Exterior2nd=le.fit_transform(pt.Exterior2nd)\n",
        "pt.Brick_Veneer_Type=le.fit_transform(pt.Brick_Veneer_Type)\n",
        "#pt.Brick_Veneer_Area=le.fit_transform(pt.Brick_Veneer_Area)\n",
        "#pt.Underground_Full_Bathroom=le.fit_transform(pt.Underground_Full_Bathroom)\n",
        "#pt.Underground_Half_Bathroom=le.fit_transform(pt.Underground_Half_Bathroom)\n",
        "pt.Kitchen_Quality=le.fit_transform(pt.Kitchen_Quality)\n",
        "pt.Functional_Rate=le.fit_transform(pt.Functional_Rate)\n",
        "pt.Fireplace_Quality=le.fit_transform(pt.Fireplace_Quality)\n",
        "pt.Garage=le.fit_transform(pt.Garage)\n",
        "#pt.Garage_Built_Year=le.fit_transform(pt.Garage_Built_Year)\n",
        "pt.Heating_Quality=le.fit_transform(pt.Heating_Quality)\n",
        "pt.Heating_Type=le.fit_transform(pt.Heating_Type)\n",
        "pt.Foundation_Type=le.fit_transform(pt.Foundation_Type)\n",
        "pt.Exterior_Condition=le.fit_transform(pt.Exterior_Condition)\n",
        "pt.Exterior_Material=le.fit_transform(pt.Exterior_Material)\n",
        "pt.Roof_Quality=le.fit_transform(pt.Roof_Quality)\n",
        "pt.Roof_Design=le.fit_transform(pt.Roof_Design)\n",
        "pt.House_Design=le.fit_transform(pt.House_Design)\n",
        "pt.House_Type=le.fit_transform(pt.House_Type)\n",
        "pt.Condition2=le.fit_transform(pt.Condition2)\n",
        "pt.Condition1=le.fit_transform(pt.Condition1)\n",
        "pt.Neighborhood=le.fit_transform(pt.Neighborhood)\n",
        "pt.Property_Slope=le.fit_transform(pt.Property_Slope)\n",
        "pt.Lot_Configuration=le.fit_transform(pt.Lot_Configuration)\n",
        "pt.Property_Shape=le.fit_transform(pt.Property_Shape)\n",
        "pt.Road_Type=le.fit_transform(pt.Road_Type)\n",
        "pt.Air_Conditioning=le.fit_transform(pt.Air_Conditioning)\n",
        "pt.Land_Outline=le.fit_transform(pt.Land_Outline)\n",
        "#pt.Brick_Veneer_Area=le.fit_transform(pt.Brick_Veneer_Area)\n",
        "pt.Basement_Height=le.fit_transform(pt.Basement_Height)\n",
        "pt.Basement_Condition=le.fit_transform(pt.Basement_Condition)\n",
        "pt.Exposure_Level=le.fit_transform(pt.Exposure_Level)\n",
        "pt.BsmtFinType1=le.fit_transform(pt.BsmtFinType1)\n",
        "pt.BsmtFinType2=le.fit_transform(pt.BsmtFinType2)\n",
        "pt.Garage_Finish_Year=le.fit_transform(pt.Garage_Finish_Year)\n",
        "pt.Garage_Quality=le.fit_transform(pt.Garage_Quality)\n",
        "#pt.Land_Condition=le.fit_transform(pt.Garage_Condition)\n",
        "pt.Pavedd_Drive=le.fit_transform(pt.Pavedd_Drive)\n",
        "pt.Garage_Condition=le.fit_transform(pt.Garage_Condition)\n",
        "pt.Electrical_System=le.fit_transform(pt.Electrical_System)\n",
        "pt.Sale_Condition=le.fit_transform(pt.Sale_Condition)\n",
        "pt.Sale_Type=le.fit_transform(pt.Sale_Type)\n"
      ],
      "metadata": {
        "id": "8cu1p8J6hfN4"
      },
      "execution_count": null,
      "outputs": []
    },
    {
      "cell_type": "code",
      "source": [
        "pt.info()\n",
        "pt.shape"
      ],
      "metadata": {
        "id": "mUVENxzAmmFY"
      },
      "execution_count": null,
      "outputs": []
    },
    {
      "cell_type": "code",
      "source": [
        "#plt.figure(figsize=(25,20))\n",
        "#sns.heatmap(ppt.corr(),annot=True)"
      ],
      "metadata": {
        "id": "8lfwStWRYRJ-"
      },
      "execution_count": null,
      "outputs": []
    },
    {
      "cell_type": "code",
      "source": [
        "# checking the corelation between the target variable and the other numerical columns\n",
        "corr = ppt.corr().sort_values(by='Sale_Price', ascending=False)[['Sale_Price']]\n",
        "corr"
      ],
      "metadata": {
        "colab": {
          "base_uri": "https://localhost:8080/",
          "height": 424
        },
        "id": "RSpde_DGaQcB",
        "outputId": "865ffe4c-b00f-4847-9fcf-5697ff7c50f4"
      },
      "execution_count": null,
      "outputs": [
        {
          "output_type": "execute_result",
          "data": {
            "text/plain": [
              "                     Sale_Price\n",
              "Sale_Price             1.000000\n",
              "Overall_Material       0.790972\n",
              "Grade_Living_Area      0.708584\n",
              "Garage_Size            0.640383\n",
              "Total_Basement_Area    0.613792\n",
              "...                         ...\n",
              "Garage_Finish_Year    -0.392997\n",
              "Heating_Quality       -0.400135\n",
              "Basement_Height       -0.552886\n",
              "Kitchen_Quality       -0.589123\n",
              "Exterior_Material     -0.637279\n",
              "\n",
              "[76 rows x 1 columns]"
            ],
            "text/html": [
              "\n",
              "  <div id=\"df-edfa9880-0749-478c-875e-fcef16ab3f51\">\n",
              "    <div class=\"colab-df-container\">\n",
              "      <div>\n",
              "<style scoped>\n",
              "    .dataframe tbody tr th:only-of-type {\n",
              "        vertical-align: middle;\n",
              "    }\n",
              "\n",
              "    .dataframe tbody tr th {\n",
              "        vertical-align: top;\n",
              "    }\n",
              "\n",
              "    .dataframe thead th {\n",
              "        text-align: right;\n",
              "    }\n",
              "</style>\n",
              "<table border=\"1\" class=\"dataframe\">\n",
              "  <thead>\n",
              "    <tr style=\"text-align: right;\">\n",
              "      <th></th>\n",
              "      <th>Sale_Price</th>\n",
              "    </tr>\n",
              "  </thead>\n",
              "  <tbody>\n",
              "    <tr>\n",
              "      <th>Sale_Price</th>\n",
              "      <td>1.000000</td>\n",
              "    </tr>\n",
              "    <tr>\n",
              "      <th>Overall_Material</th>\n",
              "      <td>0.790972</td>\n",
              "    </tr>\n",
              "    <tr>\n",
              "      <th>Grade_Living_Area</th>\n",
              "      <td>0.708584</td>\n",
              "    </tr>\n",
              "    <tr>\n",
              "      <th>Garage_Size</th>\n",
              "      <td>0.640383</td>\n",
              "    </tr>\n",
              "    <tr>\n",
              "      <th>Total_Basement_Area</th>\n",
              "      <td>0.613792</td>\n",
              "    </tr>\n",
              "    <tr>\n",
              "      <th>...</th>\n",
              "      <td>...</td>\n",
              "    </tr>\n",
              "    <tr>\n",
              "      <th>Garage_Finish_Year</th>\n",
              "      <td>-0.392997</td>\n",
              "    </tr>\n",
              "    <tr>\n",
              "      <th>Heating_Quality</th>\n",
              "      <td>-0.400135</td>\n",
              "    </tr>\n",
              "    <tr>\n",
              "      <th>Basement_Height</th>\n",
              "      <td>-0.552886</td>\n",
              "    </tr>\n",
              "    <tr>\n",
              "      <th>Kitchen_Quality</th>\n",
              "      <td>-0.589123</td>\n",
              "    </tr>\n",
              "    <tr>\n",
              "      <th>Exterior_Material</th>\n",
              "      <td>-0.637279</td>\n",
              "    </tr>\n",
              "  </tbody>\n",
              "</table>\n",
              "<p>76 rows × 1 columns</p>\n",
              "</div>\n",
              "      <button class=\"colab-df-convert\" onclick=\"convertToInteractive('df-edfa9880-0749-478c-875e-fcef16ab3f51')\"\n",
              "              title=\"Convert this dataframe to an interactive table.\"\n",
              "              style=\"display:none;\">\n",
              "        \n",
              "  <svg xmlns=\"http://www.w3.org/2000/svg\" height=\"24px\"viewBox=\"0 0 24 24\"\n",
              "       width=\"24px\">\n",
              "    <path d=\"M0 0h24v24H0V0z\" fill=\"none\"/>\n",
              "    <path d=\"M18.56 5.44l.94 2.06.94-2.06 2.06-.94-2.06-.94-.94-2.06-.94 2.06-2.06.94zm-11 1L8.5 8.5l.94-2.06 2.06-.94-2.06-.94L8.5 2.5l-.94 2.06-2.06.94zm10 10l.94 2.06.94-2.06 2.06-.94-2.06-.94-.94-2.06-.94 2.06-2.06.94z\"/><path d=\"M17.41 7.96l-1.37-1.37c-.4-.4-.92-.59-1.43-.59-.52 0-1.04.2-1.43.59L10.3 9.45l-7.72 7.72c-.78.78-.78 2.05 0 2.83L4 21.41c.39.39.9.59 1.41.59.51 0 1.02-.2 1.41-.59l7.78-7.78 2.81-2.81c.8-.78.8-2.07 0-2.86zM5.41 20L4 18.59l7.72-7.72 1.47 1.35L5.41 20z\"/>\n",
              "  </svg>\n",
              "      </button>\n",
              "      \n",
              "  <style>\n",
              "    .colab-df-container {\n",
              "      display:flex;\n",
              "      flex-wrap:wrap;\n",
              "      gap: 12px;\n",
              "    }\n",
              "\n",
              "    .colab-df-convert {\n",
              "      background-color: #E8F0FE;\n",
              "      border: none;\n",
              "      border-radius: 50%;\n",
              "      cursor: pointer;\n",
              "      display: none;\n",
              "      fill: #1967D2;\n",
              "      height: 32px;\n",
              "      padding: 0 0 0 0;\n",
              "      width: 32px;\n",
              "    }\n",
              "\n",
              "    .colab-df-convert:hover {\n",
              "      background-color: #E2EBFA;\n",
              "      box-shadow: 0px 1px 2px rgba(60, 64, 67, 0.3), 0px 1px 3px 1px rgba(60, 64, 67, 0.15);\n",
              "      fill: #174EA6;\n",
              "    }\n",
              "\n",
              "    [theme=dark] .colab-df-convert {\n",
              "      background-color: #3B4455;\n",
              "      fill: #D2E3FC;\n",
              "    }\n",
              "\n",
              "    [theme=dark] .colab-df-convert:hover {\n",
              "      background-color: #434B5C;\n",
              "      box-shadow: 0px 1px 3px 1px rgba(0, 0, 0, 0.15);\n",
              "      filter: drop-shadow(0px 1px 2px rgba(0, 0, 0, 0.3));\n",
              "      fill: #FFFFFF;\n",
              "    }\n",
              "  </style>\n",
              "\n",
              "      <script>\n",
              "        const buttonEl =\n",
              "          document.querySelector('#df-edfa9880-0749-478c-875e-fcef16ab3f51 button.colab-df-convert');\n",
              "        buttonEl.style.display =\n",
              "          google.colab.kernel.accessAllowed ? 'block' : 'none';\n",
              "\n",
              "        async function convertToInteractive(key) {\n",
              "          const element = document.querySelector('#df-edfa9880-0749-478c-875e-fcef16ab3f51');\n",
              "          const dataTable =\n",
              "            await google.colab.kernel.invokeFunction('convertToInteractive',\n",
              "                                                     [key], {});\n",
              "          if (!dataTable) return;\n",
              "\n",
              "          const docLinkHtml = 'Like what you see? Visit the ' +\n",
              "            '<a target=\"_blank\" href=https://colab.research.google.com/notebooks/data_table.ipynb>data table notebook</a>'\n",
              "            + ' to learn more about interactive tables.';\n",
              "          element.innerHTML = '';\n",
              "          dataTable['output_type'] = 'display_data';\n",
              "          await google.colab.output.renderOutput(dataTable, element);\n",
              "          const docLink = document.createElement('div');\n",
              "          docLink.innerHTML = docLinkHtml;\n",
              "          element.appendChild(docLink);\n",
              "        }\n",
              "      </script>\n",
              "    </div>\n",
              "  </div>\n",
              "  "
            ]
          },
          "metadata": {},
          "execution_count": 18
        }
      ]
    },
    {
      "cell_type": "code",
      "source": [
        "corr[corr['Sale_Price']>0.5].index"
      ],
      "metadata": {
        "colab": {
          "base_uri": "https://localhost:8080/"
        },
        "id": "_VMdWUWmfX2D",
        "outputId": "d4185705-8054-4b2c-bec2-f2d239fc6f21"
      },
      "execution_count": null,
      "outputs": [
        {
          "output_type": "execute_result",
          "data": {
            "text/plain": [
              "Index(['Overall_Material', 'Construction_Year', 'Remodel_Year',\n",
              "       'Total_Basement_Area', 'First_Floor_Area', 'Grade_Living_Area',\n",
              "       'Full_Bathroom_Above_Grade', 'Rooms_Above_Grade', 'Garage_Size',\n",
              "       'Sale_Price'],\n",
              "      dtype='object')"
            ]
          },
          "metadata": {},
          "execution_count": 14
        }
      ]
    },
    {
      "cell_type": "code",
      "source": [
        "\n",
        "ppt.drop(['Exterior_Material','Kitchen_Quality','Basement_Height','Heating_Quality','Garage_Finish_Year','Three_Season_Lobby_Area','Enclosed_Lobby_Area','W_Deck_Area','LowQualFinSF','Year_Sold'],axis=1, inplace=True)"
      ],
      "metadata": {
        "id": "3lvhBObQHgIY"
      },
      "execution_count": null,
      "outputs": []
    },
    {
      "cell_type": "code",
      "source": [
        "ppt.shape"
      ],
      "metadata": {
        "colab": {
          "base_uri": "https://localhost:8080/"
        },
        "id": "OPnRrvoqJu4T",
        "outputId": "1b7f280e-1280-489d-f9d2-8bdf7f890a2d"
      },
      "execution_count": null,
      "outputs": [
        {
          "output_type": "execute_result",
          "data": {
            "text/plain": [
              "(1459, 66)"
            ]
          },
          "metadata": {},
          "execution_count": 20
        }
      ]
    },
    {
      "cell_type": "code",
      "source": [
        "sns.distplot(ppt.Grade_Living_Area)"
      ],
      "metadata": {
        "colab": {
          "base_uri": "https://localhost:8080/",
          "height": 352
        },
        "id": "Ief4b7hA6OVG",
        "outputId": "112dbeb9-a3a0-4f29-f293-c45296aeae1d"
      },
      "execution_count": null,
      "outputs": [
        {
          "output_type": "stream",
          "name": "stderr",
          "text": [
            "/usr/local/lib/python3.7/dist-packages/seaborn/distributions.py:2619: FutureWarning: `distplot` is a deprecated function and will be removed in a future version. Please adapt your code to use either `displot` (a figure-level function with similar flexibility) or `histplot` (an axes-level function for histograms).\n",
            "  warnings.warn(msg, FutureWarning)\n"
          ]
        },
        {
          "output_type": "execute_result",
          "data": {
            "text/plain": [
              "<matplotlib.axes._subplots.AxesSubplot at 0x7f8700db6ad0>"
            ]
          },
          "metadata": {},
          "execution_count": 21
        },
        {
          "output_type": "display_data",
          "data": {
            "text/plain": [
              "<Figure size 432x288 with 1 Axes>"
            ],
            "image/png": "[encoded data removed]"
          },
          "metadata": {
            "needs_background": "light"
          }
        }
      ]
    },
    {
      "cell_type": "code",
      "source": [
        "IQR=ppt.Grade_Living_Area.quantile(0.75)-ppt.Grade_Living_Area.quantile(0.25)\n",
        "IQR"
      ],
      "metadata": {
        "colab": {
          "base_uri": "https://localhost:8080/"
        },
        "id": "qWw2g7cR6XFt",
        "outputId": "2cc0de56-f35b-43ab-97d3-c9ae4911ba12"
      },
      "execution_count": null,
      "outputs": [
        {
          "output_type": "execute_result",
          "data": {
            "text/plain": [
              "648.5"
            ]
          },
          "metadata": {},
          "execution_count": 22
        }
      ]
    },
    {
      "cell_type": "code",
      "source": [
        "lb1=ppt.Grade_Living_Area.quantile(0.25)-(IQR*3)# for extreme boundary instead of 1.5 we can take 3\n",
        "ub1=ppt.Grade_Living_Area.quantile(0.75)+(IQR*3)\n",
        "lb1,ub1\n",
        "ppt.loc[ppt[\"Grade_Living_Area\"]>3723.0,\"Grade_Living_Area\"]=3723.0\n"
      ],
      "metadata": {
        "id": "k6Y0_9nv6XJB"
      },
      "execution_count": null,
      "outputs": []
    },
    {
      "cell_type": "code",
      "source": [
        "sns.distplot(ppt.Grade_Living_Area)"
      ],
      "metadata": {
        "colab": {
          "base_uri": "https://localhost:8080/",
          "height": 352
        },
        "id": "PBRk8HzD6XRB",
        "outputId": "609be529-f93a-4f0a-8636-d4117e811fba"
      },
      "execution_count": null,
      "outputs": [
        {
          "output_type": "stream",
          "name": "stderr",
          "text": [
            "/usr/local/lib/python3.7/dist-packages/seaborn/distributions.py:2619: FutureWarning: `distplot` is a deprecated function and will be removed in a future version. Please adapt your code to use either `displot` (a figure-level function with similar flexibility) or `histplot` (an axes-level function for histograms).\n",
            "  warnings.warn(msg, FutureWarning)\n"
          ]
        },
        {
          "output_type": "execute_result",
          "data": {
            "text/plain": [
              "<matplotlib.axes._subplots.AxesSubplot at 0x7f8700c14e50>"
            ]
          },
          "metadata": {},
          "execution_count": 24
        },
        {
          "output_type": "display_data",
          "data": {
            "text/plain": [
              "<Figure size 432x288 with 1 Axes>"
            ],
            "image/png": "[encoded data removed]"
          },
          "metadata": {
            "needs_background": "light"
          }
        }
      ]
    },
    {
      "cell_type": "code",
      "source": [
        "IQR=ppt.Construction_Year.quantile(0.75)-ppt.Construction_Year.quantile(0.25)\n",
        "IQR\n",
        "lb1=ppt.Construction_Year.quantile(0.25)-(IQR*3)# for extreme boundary instead of 1.5 we can take 3\n",
        "ub1=ppt.Construction_Year.quantile(0.75)+(IQR*3)\n",
        "lb1,ub1\n",
        "ppt.loc[ppt[\"Construction_Year\"]>1816.0,\"Construction_Year\"]=1816.0"
      ],
      "metadata": {
        "id": "K1BQLKky6XT-"
      },
      "execution_count": null,
      "outputs": []
    },
    {
      "cell_type": "code",
      "source": [
        "sns.distplot(ppt.Construction_Year)"
      ],
      "metadata": {
        "colab": {
          "base_uri": "https://localhost:8080/",
          "height": 387
        },
        "id": "SrP911Xl6XSj",
        "outputId": "473c0dc1-9d68-4980-d12c-ab244eed3a59"
      },
      "execution_count": null,
      "outputs": [
        {
          "output_type": "stream",
          "name": "stderr",
          "text": [
            "/usr/local/lib/python3.7/dist-packages/seaborn/distributions.py:2619: FutureWarning: `distplot` is a deprecated function and will be removed in a future version. Please adapt your code to use either `displot` (a figure-level function with similar flexibility) or `histplot` (an axes-level function for histograms).\n",
            "  warnings.warn(msg, FutureWarning)\n",
            "/usr/local/lib/python3.7/dist-packages/seaborn/distributions.py:316: UserWarning: Dataset has 0 variance; skipping density estimate. Pass `warn_singular=False` to disable this warning.\n",
            "  warnings.warn(msg, UserWarning)\n"
          ]
        },
        {
          "output_type": "execute_result",
          "data": {
            "text/plain": [
              "<matplotlib.axes._subplots.AxesSubplot at 0x7f87006ee290>"
            ]
          },
          "metadata": {},
          "execution_count": 26
        },
        {
          "output_type": "display_data",
          "data": {
            "text/plain": [
              "<Figure size 432x288 with 1 Axes>"
            ],
            "image/png": "[encoded data removed]"
          },
          "metadata": {
            "needs_background": "light"
          }
        }
      ]
    },
    {
      "cell_type": "code",
      "source": [
        "IQR=ppt.Total_Basement_Area.quantile(0.75)-ppt.Total_Basement_Area.quantile(0.25)\n",
        "IQR\n",
        "lb1=ppt.Total_Basement_Area.quantile(0.25)-(IQR*3)# for extreme boundary instead of 1.5 we can take 3\n",
        "ub1=ppt.Total_Basement_Area.quantile(0.75)+(IQR*3)\n",
        "lb1,ub1\n",
        "ppt.loc[ppt[\"Total_Basement_Area\"]> 2807.5,\"Total_Basement_Area\"]= 2807.5"
      ],
      "metadata": {
        "id": "Hq7E-4Xa83g5"
      },
      "execution_count": null,
      "outputs": []
    },
    {
      "cell_type": "code",
      "source": [
        "sns.distplot(ppt.Total_Basement_Area)"
      ],
      "metadata": {
        "colab": {
          "base_uri": "https://localhost:8080/",
          "height": 352
        },
        "id": "Yi34p67j83kp",
        "outputId": "36ec83de-1418-470d-e9ff-8c4f20b16378"
      },
      "execution_count": null,
      "outputs": [
        {
          "output_type": "stream",
          "name": "stderr",
          "text": [
            "/usr/local/lib/python3.7/dist-packages/seaborn/distributions.py:2619: FutureWarning: `distplot` is a deprecated function and will be removed in a future version. Please adapt your code to use either `displot` (a figure-level function with similar flexibility) or `histplot` (an axes-level function for histograms).\n",
            "  warnings.warn(msg, FutureWarning)\n"
          ]
        },
        {
          "output_type": "execute_result",
          "data": {
            "text/plain": [
              "<matplotlib.axes._subplots.AxesSubplot at 0x7f87005e5b50>"
            ]
          },
          "metadata": {},
          "execution_count": 28
        },
        {
          "output_type": "display_data",
          "data": {
            "text/plain": [
              "<Figure size 432x288 with 1 Axes>"
            ],
            "image/png": "[encoded data removed]"
          },
          "metadata": {
            "needs_background": "light"
          }
        }
      ]
    },
    {
      "cell_type": "code",
      "source": [
        "fig=plt.figure(figsize=(10,10))\n",
        "sns.boxplot(data=ppt,y=\"Brick_Veneer_Area\")"
      ],
      "metadata": {
        "colab": {
          "base_uri": "https://localhost:8080/",
          "height": 595
        },
        "id": "XwG_djJmKOTg",
        "outputId": "d8c8be33-9ec5-46ae-b397-71051967d162"
      },
      "execution_count": null,
      "outputs": [
        {
          "output_type": "execute_result",
          "data": {
            "text/plain": [
              "<matplotlib.axes._subplots.AxesSubplot at 0x7f8700c86350>"
            ]
          },
          "metadata": {},
          "execution_count": 29
        },
        {
          "output_type": "display_data",
          "data": {
            "text/plain": [
              "<Figure size 720x720 with 1 Axes>"
            ],
            "image/png": "[encoded data removed]"
          },
          "metadata": {
            "needs_background": "light"
          }
        }
      ]
    },
    {
      "cell_type": "code",
      "source": [
        "sns.distplot(ppt.Brick_Veneer_Area)"
      ],
      "metadata": {
        "colab": {
          "base_uri": "https://localhost:8080/",
          "height": 354
        },
        "id": "Fxa0g__zKOcE",
        "outputId": "bf8ffd6f-3d70-48fc-98d3-4e619ea79692"
      },
      "execution_count": null,
      "outputs": [
        {
          "output_type": "stream",
          "name": "stderr",
          "text": [
            "/usr/local/lib/python3.7/dist-packages/seaborn/distributions.py:2619: FutureWarning: `distplot` is a deprecated function and will be removed in a future version. Please adapt your code to use either `displot` (a figure-level function with similar flexibility) or `histplot` (an axes-level function for histograms).\n",
            "  warnings.warn(msg, FutureWarning)\n"
          ]
        },
        {
          "output_type": "execute_result",
          "data": {
            "text/plain": [
              "<matplotlib.axes._subplots.AxesSubplot at 0x7f87004ba610>"
            ]
          },
          "metadata": {},
          "execution_count": 30
        },
        {
          "output_type": "display_data",
          "data": {
            "text/plain": [
              "<Figure size 432x288 with 1 Axes>"
            ],
            "image/png": "[encoded data removed]"
          },
          "metadata": {
            "needs_background": "light"
          }
        }
      ]
    },
    {
      "cell_type": "code",
      "source": [
        "IQR=ppt.Brick_Veneer_Area.quantile(0.75)-ppt.Brick_Veneer_Area.quantile(0.25)\n",
        "IQR\n",
        "lb1=ppt.Brick_Veneer_Area.quantile(0.25)-(IQR*3)# for extreme boundary instead of 1.5 we can take 3\n",
        "ub1=ppt.Brick_Veneer_Area.quantile(0.75)+(IQR*3)\n",
        "lb1,ub1\n",
        "ppt.loc[ppt[\"Brick_Veneer_Area\"]>658.0,\"Brick_Veneer_Area\"]=658.0\n"
      ],
      "metadata": {
        "id": "44hoFe7lKOjB"
      },
      "execution_count": null,
      "outputs": []
    },
    {
      "cell_type": "code",
      "source": [
        " sns.distplot(ppt.Brick_Veneer_Area)"
      ],
      "metadata": {
        "colab": {
          "base_uri": "https://localhost:8080/",
          "height": 354
        },
        "id": "-PeMNO9zKaFY",
        "outputId": "3b3f2e73-4c7c-44c6-edd5-2d7f13fa82ad"
      },
      "execution_count": null,
      "outputs": [
        {
          "output_type": "stream",
          "name": "stderr",
          "text": [
            "/usr/local/lib/python3.7/dist-packages/seaborn/distributions.py:2619: FutureWarning: `distplot` is a deprecated function and will be removed in a future version. Please adapt your code to use either `displot` (a figure-level function with similar flexibility) or `histplot` (an axes-level function for histograms).\n",
            "  warnings.warn(msg, FutureWarning)\n"
          ]
        },
        {
          "output_type": "execute_result",
          "data": {
            "text/plain": [
              "<matplotlib.axes._subplots.AxesSubplot at 0x7f8700459e50>"
            ]
          },
          "metadata": {},
          "execution_count": 32
        },
        {
          "output_type": "display_data",
          "data": {
            "text/plain": [
              "<Figure size 432x288 with 1 Axes>"
            ],
            "image/png": "[encoded data removed]"
          },
          "metadata": {
            "needs_background": "light"
          }
        }
      ]
    },
    {
      "cell_type": "code",
      "source": [
        "sns.distplot(ppt.Rooms_Above_Grade)"
      ],
      "metadata": {
        "colab": {
          "base_uri": "https://localhost:8080/",
          "height": 352
        },
        "id": "wJL-qIbiLE3c",
        "outputId": "f25495a3-158c-4139-e802-aaba26b8b429"
      },
      "execution_count": null,
      "outputs": [
        {
          "output_type": "stream",
          "name": "stderr",
          "text": [
            "/usr/local/lib/python3.7/dist-packages/seaborn/distributions.py:2619: FutureWarning: `distplot` is a deprecated function and will be removed in a future version. Please adapt your code to use either `displot` (a figure-level function with similar flexibility) or `histplot` (an axes-level function for histograms).\n",
            "  warnings.warn(msg, FutureWarning)\n"
          ]
        },
        {
          "output_type": "execute_result",
          "data": {
            "text/plain": [
              "<matplotlib.axes._subplots.AxesSubplot at 0x7f8700301890>"
            ]
          },
          "metadata": {},
          "execution_count": 33
        },
        {
          "output_type": "display_data",
          "data": {
            "text/plain": [
              "<Figure size 432x288 with 1 Axes>"
            ],
            "image/png": "[encoded data removed]"
          },
          "metadata": {
            "needs_background": "light"
          }
        }
      ]
    },
    {
      "cell_type": "code",
      "source": [
        "IQR=ppt.Rooms_Above_Grade.quantile(0.75)-ppt.Rooms_Above_Grade.quantile(0.25)\n",
        "IQR\n",
        "lb1=ppt.Rooms_Above_Grade.quantile(0.25)-(IQR*3)# for extreme boundary instead of 1.5 we can take 3\n",
        "ub1=ppt.Rooms_Above_Grade.quantile(0.75)+(IQR*3)\n",
        "lb1,ub1\n"
      ],
      "metadata": {
        "colab": {
          "base_uri": "https://localhost:8080/"
        },
        "id": "PwcNvfB0LFCm",
        "outputId": "c016fea3-1250-47b2-f3c8-99b803a1fa21"
      },
      "execution_count": null,
      "outputs": [
        {
          "output_type": "execute_result",
          "data": {
            "text/plain": [
              "(-1.0, 13.0)"
            ]
          },
          "metadata": {},
          "execution_count": 35
        }
      ]
    },
    {
      "cell_type": "code",
      "source": [
        "ppt.loc[ppt[\"Rooms_Above_Grade\"]> 13.0,\"Rooms_Above_Grade\"]= 13.0"
      ],
      "metadata": {
        "id": "dQmmoTJnLFLE"
      },
      "execution_count": null,
      "outputs": []
    },
    {
      "cell_type": "code",
      "source": [
        "sns.distplot(ppt.Rooms_Above_Grade)"
      ],
      "metadata": {
        "colab": {
          "base_uri": "https://localhost:8080/",
          "height": 352
        },
        "id": "vrpHn2CkLFRA",
        "outputId": "f14b61cb-1810-45ed-b7e4-31ca1bc27708"
      },
      "execution_count": null,
      "outputs": [
        {
          "output_type": "stream",
          "name": "stderr",
          "text": [
            "/usr/local/lib/python3.7/dist-packages/seaborn/distributions.py:2619: FutureWarning: `distplot` is a deprecated function and will be removed in a future version. Please adapt your code to use either `displot` (a figure-level function with similar flexibility) or `histplot` (an axes-level function for histograms).\n",
            "  warnings.warn(msg, FutureWarning)\n"
          ]
        },
        {
          "output_type": "execute_result",
          "data": {
            "text/plain": [
              "<matplotlib.axes._subplots.AxesSubplot at 0x7f8700177690>"
            ]
          },
          "metadata": {},
          "execution_count": 36
        },
        {
          "output_type": "display_data",
          "data": {
            "text/plain": [
              "<Figure size 432x288 with 1 Axes>"
            ],
            "image/png": "[encoded data removed]"
          },
          "metadata": {
            "needs_background": "light"
          }
        }
      ]
    },
    {
      "cell_type": "code",
      "source": [
        "#GrLivArea,TotalBsmtSF,OverallQual , GarageCars etc. seems to have high correlation with SalePrice.\n",
        "\n",
        "corr = ppt.corr()\n",
        "#correlation matrix\n",
        "k = 10 #number of variables for heatmap\n",
        "cols = corr.nlargest(k, 'Sale_Price')['Sale_Price'].index\n",
        "cm = np.corrcoef(ppt[cols].values.T)\n",
        "sns.set(font_scale=1.25)\n",
        "hm = sns.heatmap(cm, cbar=True, annot=True, square=True, fmt='.2f', annot_kws={'size': 10}, yticklabels=cols.values, xticklabels=cols.values)\n",
        "plt.show()"
      ],
      "metadata": {
        "colab": {
          "base_uri": "https://localhost:8080/",
          "height": 460
        },
        "id": "Z8Q0Vu74blxL",
        "outputId": "d1c50958-f0d2-4078-9412-042be48e4235"
      },
      "execution_count": null,
      "outputs": [
        {
          "output_type": "display_data",
          "data": {
            "text/plain": [
              "<Figure size 432x288 with 2 Axes>"
            ],
            "image/png": "[encoded data removed]"
          },
          "metadata": {}
        }
      ]
    },
    {
      "cell_type": "markdown",
      "source": [
        "**VISUALIZATION PART**"
      ],
      "metadata": {
        "id": "SaMgaZfFZs1l"
      }
    },
    {
      "cell_type": "code",
      "source": [
        "# Few plot between positive correlation between the variables.\n",
        "plt.scatter(ppt.Sale_Price,ppt.Grade_Living_Area)\n",
        "plt.title('Sale_Price and Grade_Living_Area')\n",
        "plt.show()\n",
        "\n"
      ],
      "metadata": {
        "colab": {
          "base_uri": "https://localhost:8080/",
          "height": 290
        },
        "id": "ilO_GmOzcFiV",
        "outputId": "0d0686e2-b1ad-4a68-816b-6472185a73b6"
      },
      "execution_count": null,
      "outputs": [
        {
          "output_type": "display_data",
          "data": {
            "text/plain": [
              "<Figure size 432x288 with 1 Axes>"
            ],
            "image/png": "[encoded data removed]"
          },
          "metadata": {}
        }
      ]
    },
    {
      "cell_type": "markdown",
      "source": [
        "There is a positive correlation between the variables."
      ],
      "metadata": {
        "id": "GRGrSNISdV1J"
      }
    },
    {
      "cell_type": "code",
      "source": [
        "# plot between TotalBsmtSF and SalePrice\n",
        "plt.scatter(ppt.Sale_Price,ppt.Total_Basement_Area)\n",
        "plt.title( 'Sale_Price and Total_Basement_Area')\n",
        "plt.show()"
      ],
      "metadata": {
        "colab": {
          "base_uri": "https://localhost:8080/",
          "height": 290
        },
        "id": "AMrFmbR2dgJ6",
        "outputId": "576e7c62-309f-4229-bf0f-2a3935a25270"
      },
      "execution_count": null,
      "outputs": [
        {
          "output_type": "display_data",
          "data": {
            "text/plain": [
              "<Figure size 432x288 with 1 Axes>"
            ],
            "image/png": "[encoded data removed]"
          },
          "metadata": {}
        }
      ]
    },
    {
      "cell_type": "code",
      "source": [
        "#Let's look at the heatmap!\n",
        "\n",
        "n, bins, patches = plt.hist(x=ppt['Sale_Price'], bins='auto', color='#0504aa',\n",
        "                            alpha=0.7, rwidth=0.85)\n",
        "plt.grid(axis='y', alpha=0.75)\n",
        "plt.xlabel('Value')\n",
        "plt.ylabel('Frequency')\n",
        "plt.title('Sale_Price Histogram')\n",
        "plt.text(500000, 120, r'$\\mu=15, b=3$')\n",
        "maxfreq = n.max()\n",
        "# Set a clean upper y-axis limit.\n",
        "plt.ylim(ymax=np.ceil(maxfreq / 10) * 10 if maxfreq % 10 else maxfreq + 10)"
      ],
      "metadata": {
        "colab": {
          "base_uri": "https://localhost:8080/",
          "height": 326
        },
        "id": "mmHlKOKGa-6w",
        "outputId": "70a4a5ff-3a8f-4e95-952b-04175bd4ff0e"
      },
      "execution_count": null,
      "outputs": [
        {
          "output_type": "execute_result",
          "data": {
            "text/plain": [
              "(0.0, 180.0)"
            ]
          },
          "metadata": {},
          "execution_count": 41
        },
        {
          "output_type": "display_data",
          "data": {
            "text/plain": [
              "<Figure size 432x288 with 1 Axes>"
            ],
            "image/png": "[encoded data removed]"
          },
          "metadata": {}
        }
      ]
    },
    {
      "cell_type": "markdown",
      "source": [
        "**How common factors are affecting the price of the Property **"
      ],
      "metadata": {
        "id": "IY9dCJSLIp8x"
      }
    },
    {
      "cell_type": "code",
      "source": [
        "#Which is the most common house (Bedroom wise)\n",
        "\n",
        "ppt['Bedroom_Above_Grade'].value_counts().plot(kind='bar')\n",
        "plt.title('Number Of Bedroom')\n",
        "plt.xlabel('Bedroom')\n",
        "plt.ylabel('count')\n"
      ],
      "metadata": {
        "id": "IeHACTOnGW-H",
        "colab": {
          "base_uri": "https://localhost:8080/",
          "height": 321
        },
        "outputId": "85ec62db-a268-4f6a-979b-c3bd31179d4d"
      },
      "execution_count": null,
      "outputs": [
        {
          "output_type": "execute_result",
          "data": {
            "text/plain": [
              "Text(0, 0.5, 'count')"
            ]
          },
          "metadata": {},
          "execution_count": 42
        },
        {
          "output_type": "display_data",
          "data": {
            "text/plain": [
              "<Figure size 432x288 with 1 Axes>"
            ],
            "image/png": "[encoded data removed]"
          },
          "metadata": {}
        }
      ]
    },
    {
      "cell_type": "code",
      "source": [
        "# How common factors are affecting the price of the Property \n",
        "\n",
        "plt.scatter(ppt.Sale_Price,ppt.First_Floor_Area)\n",
        "plt.title(\"Price vs  First_Floor_Area_Sqrf\")"
      ],
      "metadata": {
        "colab": {
          "base_uri": "https://localhost:8080/",
          "height": 307
        },
        "id": "QEpP7O7fJQqj",
        "outputId": "c9cb0d5a-752a-4454-b2d2-f6a9a04801f1"
      },
      "execution_count": null,
      "outputs": [
        {
          "output_type": "execute_result",
          "data": {
            "text/plain": [
              "Text(0.5, 1.0, 'Price vs  First_Floor_Area_Sqrf')"
            ]
          },
          "metadata": {},
          "execution_count": 43
        },
        {
          "output_type": "display_data",
          "data": {
            "text/plain": [
              "<Figure size 432x288 with 1 Axes>"
            ],
            "image/png": "[encoded data removed]"
          },
          "metadata": {}
        }
      ]
    },
    {
      "cell_type": "code",
      "source": [
        "plt.scatter(ppt.Sale_Price,ppt.Second_Floor_Area)\n",
        "plt.title(\"Price vs  Second_Floor_Area_Sqrf\")"
      ],
      "metadata": {
        "colab": {
          "base_uri": "https://localhost:8080/",
          "height": 307
        },
        "id": "mqCQi37HDyQC",
        "outputId": "b101e4e7-6112-49a5-93fb-57848bb60b28"
      },
      "execution_count": null,
      "outputs": [
        {
          "output_type": "execute_result",
          "data": {
            "text/plain": [
              "Text(0.5, 1.0, 'Price vs  Second_Floor_Area_Sqrf')"
            ]
          },
          "metadata": {},
          "execution_count": 44
        },
        {
          "output_type": "display_data",
          "data": {
            "text/plain": [
              "<Figure size 432x288 with 1 Axes>"
            ],
            "image/png": "[encoded data removed]"
          },
          "metadata": {}
        }
      ]
    },
    {
      "cell_type": "code",
      "source": [
        "plt.scatter(ppt.Sale_Price,ppt.Garage_Area)\n",
        "plt.title(\"Price vs Garage_Area\")"
      ],
      "metadata": {
        "colab": {
          "base_uri": "https://localhost:8080/",
          "height": 307
        },
        "id": "g9MqWaAGGFv3",
        "outputId": "d28bb891-9191-495e-c18b-1c4d906c0e70"
      },
      "execution_count": null,
      "outputs": [
        {
          "output_type": "execute_result",
          "data": {
            "text/plain": [
              "Text(0.5, 1.0, 'Price vs Garage_Area')"
            ]
          },
          "metadata": {},
          "execution_count": 45
        },
        {
          "output_type": "display_data",
          "data": {
            "text/plain": [
              "<Figure size 432x288 with 1 Axes>"
            ],
            "image/png": "[encoded data removed]"
          },
          "metadata": {}
        }
      ]
    },
    {
      "cell_type": "code",
      "source": [
        "plt.scatter(ppt.Sale_Price,ppt.Grade_Living_Area)\n",
        "plt.title(\"Price vs Grade_Living_Area\")"
      ],
      "metadata": {
        "colab": {
          "base_uri": "https://localhost:8080/",
          "height": 307
        },
        "id": "23Zln6vEGU_8",
        "outputId": "27fd4f7c-cb21-4926-c31b-9c78b5b34a34"
      },
      "execution_count": null,
      "outputs": [
        {
          "output_type": "execute_result",
          "data": {
            "text/plain": [
              "Text(0.5, 1.0, 'Price vs Grade_Living_Area')"
            ]
          },
          "metadata": {},
          "execution_count": 46
        },
        {
          "output_type": "display_data",
          "data": {
            "text/plain": [
              "<Figure size 432x288 with 1 Axes>"
            ],
            "image/png": "[encoded data removed]"
          },
          "metadata": {}
        }
      ]
    },
    {
      "cell_type": "code",
      "source": [
        "plt.scatter(ppt.Sale_Price,ppt.Total_Basement_Area)\n",
        "plt.title(\"Price vs Total_Basement_Area \")"
      ],
      "metadata": {
        "colab": {
          "base_uri": "https://localhost:8080/",
          "height": 307
        },
        "id": "AoRSreUxGg6Z",
        "outputId": "7b5e28e8-c695-4322-e6e4-a5706512ab07"
      },
      "execution_count": null,
      "outputs": [
        {
          "output_type": "execute_result",
          "data": {
            "text/plain": [
              "Text(0.5, 1.0, 'Price vs Total_Basement_Area ')"
            ]
          },
          "metadata": {},
          "execution_count": 47
        },
        {
          "output_type": "display_data",
          "data": {
            "text/plain": [
              "<Figure size 432x288 with 1 Axes>"
            ],
            "image/png": "[encoded data removed]"
          },
          "metadata": {}
        }
      ]
    },
    {
      "cell_type": "markdown",
      "source": [
        "**MODEL BUILDING WITH HELP OF LINEAR REGRESSION METHOD**"
      ],
      "metadata": {
        "id": "ermxSwTVZag3"
      }
    },
    {
      "cell_type": "code",
      "source": [
        "from sklearn.model_selection import train_test_split\n"
      ],
      "metadata": {
        "id": "UzQoxvmI3KZt"
      },
      "execution_count": null,
      "outputs": []
    },
    {
      "cell_type": "code",
      "source": [
        "pr_x=ppt.iloc[:,1:-1]\n",
        "pr_y=ppt.iloc[:,-1]\n",
        "test_x=pt.iloc[:,1:]\n",
        "#print(pt_y)\n"
      ],
      "metadata": {
        "id": "tlMqrCzkPckL"
      },
      "execution_count": null,
      "outputs": []
    },
    {
      "cell_type": "code",
      "source": [
        "pr_x.shape,pr_y.shape"
      ],
      "metadata": {
        "colab": {
          "base_uri": "https://localhost:8080/"
        },
        "id": "wToWZEtaZJG4",
        "outputId": "d1b8929c-bc1d-4379-83a0-9ceda79f6477"
      },
      "execution_count": null,
      "outputs": [
        {
          "output_type": "execute_result",
          "data": {
            "text/plain": [
              "((1459, 64), (1459,))"
            ]
          },
          "metadata": {},
          "execution_count": 50
        }
      ]
    },
    {
      "cell_type": "code",
      "source": [
        "pr_x_train,pr_x_test,pr_y_train,pr_y_test=train_test_split(pr_x,pr_y,test_size=0.1,random_state=0)"
      ],
      "metadata": {
        "id": "qTez1fH5siCF"
      },
      "execution_count": null,
      "outputs": []
    },
    {
      "cell_type": "code",
      "source": [
        "pr_x_train.shape,pr_x_test.shape,pr_y_train.shape,pr_y_test.shape"
      ],
      "metadata": {
        "colab": {
          "base_uri": "https://localhost:8080/"
        },
        "id": "Mm4ZMAx0iDyX",
        "outputId": "53aab163-5f20-4e0a-9fa8-b3274c5fdb80"
      },
      "execution_count": null,
      "outputs": [
        {
          "output_type": "execute_result",
          "data": {
            "text/plain": [
              "((1313, 64), (146, 64), (1313,), (146,))"
            ]
          },
          "metadata": {},
          "execution_count": 52
        }
      ]
    },
    {
      "cell_type": "code",
      "source": [
        "from sklearn.linear_model import LinearRegression"
      ],
      "metadata": {
        "id": "jdSdTPggiNHe"
      },
      "execution_count": null,
      "outputs": []
    },
    {
      "cell_type": "code",
      "source": [
        "lr=LinearRegression()"
      ],
      "metadata": {
        "id": "E_9v-akLioGE"
      },
      "execution_count": null,
      "outputs": []
    },
    {
      "cell_type": "code",
      "source": [
        "lr.fit(pr_x_train,pr_y_train)"
      ],
      "metadata": {
        "colab": {
          "base_uri": "https://localhost:8080/"
        },
        "id": "3XFrQlhhir_M",
        "outputId": "15ef0da8-29b0-4597-ec9a-33140ec03783"
      },
      "execution_count": null,
      "outputs": [
        {
          "output_type": "execute_result",
          "data": {
            "text/plain": [
              "LinearRegression()"
            ]
          },
          "metadata": {},
          "execution_count": 55
        }
      ]
    },
    {
      "cell_type": "code",
      "source": [
        "lr_prd=lr.predict(pr_x_test)"
      ],
      "metadata": {
        "id": "iTuqHCL8i12E"
      },
      "execution_count": null,
      "outputs": []
    },
    {
      "cell_type": "code",
      "source": [
        "lr_prd"
      ],
      "metadata": {
        "colab": {
          "base_uri": "https://localhost:8080/"
        },
        "id": "CCXrdVB6jB3O",
        "outputId": "db62ac53-8e83-4670-e3ff-481202e08d9f"
      },
      "execution_count": null,
      "outputs": [
        {
          "output_type": "execute_result",
          "data": {
            "text/plain": [
              "array([242009.93693726,  74395.86268118, 148868.25891659, 141538.94316568,\n",
              "       146634.59606664,  83304.15507532, 161924.54571159, 196933.75859061,\n",
              "        57614.06910523,  94349.32770101,  75627.72543643, 336085.6693282 ,\n",
              "       101147.18122765, 216231.64526633, 324476.80500291, 177031.48302971,\n",
              "       172050.48047195, 341283.78916976, 233450.88995519, 187634.07483437,\n",
              "       359691.7754801 ,  67669.84402676, 136039.23019642, 188804.5436746 ,\n",
              "       196974.76866431, 192711.86163936, 162287.54792722, 301527.45468998,\n",
              "        48528.26715933, 321374.97033807, 104771.83453813, 158454.62728886,\n",
              "       153867.04824178, 191200.3767318 , 233140.30705874, 266146.08880902,\n",
              "       124500.68640753, 192123.34634945, 100233.53402258, 125234.57608878,\n",
              "        69255.6193266 , 149525.48449485, 220281.78558727,  67868.01845521,\n",
              "       124576.9658459 , 213957.66536855, 194581.69789148, 194690.16825738,\n",
              "       130473.2956618 , 284527.64807243, 294090.68620645, 155912.08432875,\n",
              "        65757.04463593,  56551.43295818, 103852.51501194, 139770.64676666,\n",
              "       235398.65807483, 230541.28981046, 314969.14807483, 177384.0152672 ,\n",
              "       231444.10959033, 141445.2550043 , 182112.0896175 , 283709.44308583,\n",
              "       151038.48883237, 150404.67779023, 103696.49338962, 228360.27588591,\n",
              "        56718.43068821, 164149.70573878, 110333.05222639, 195819.92623753,\n",
              "       169874.59041577, 117687.68965739, 137326.42268396, 129356.45370248,\n",
              "       305317.45313431, 176155.62022967, 322443.2542665 , 136422.59654143,\n",
              "       201766.5801055 ,  92738.21271959, 214016.19524966, 273043.49947169,\n",
              "       411025.7617096 , 120927.19219275, 275523.33948457, 201139.63859644,\n",
              "       265212.41528856, 202928.02000257, 180886.78258449, 128647.22852382,\n",
              "       176280.67883655, 109638.97133413, 173174.25181957, 139416.18926469,\n",
              "       105905.72853825, 208855.14481511,  93554.57519896, 149566.91305566,\n",
              "       195128.00824454, 160719.05345302, 223787.57253724, 216918.7748627 ,\n",
              "       263930.22106873, 202707.77335798, 179364.32087203, 327273.55238648,\n",
              "        83969.46393273, 252550.88054252,  71871.96959247, 161233.36953705,\n",
              "       169244.18635861, 160418.36178328, 139406.48497268, 171260.53901115,\n",
              "       152206.81907019, 209345.35704502, 161081.20472528, 263453.14747411,\n",
              "       194536.58010785, 169094.34364165, 154173.73590394, 243738.83789534,\n",
              "       140991.23575512, 241420.59697235, 105514.1464603 ,  82747.33388288,\n",
              "       201108.81198616,  98411.38131469, 130789.79512193, 139626.63429051,\n",
              "       129434.05782736,  44726.19418549, 188597.76260048, 128468.017753  ,\n",
              "       259884.614572  , 233874.31572507, 131278.0889388 ,  82588.38129491,\n",
              "       226033.28006296, 213404.71666684, 117192.39580711, 176899.14097044,\n",
              "       210983.36986039, 311967.41001275])"
            ]
          },
          "metadata": {},
          "execution_count": 57
        }
      ]
    },
    {
      "cell_type": "code",
      "source": [
        "lr.intercept_"
      ],
      "metadata": {
        "colab": {
          "base_uri": "https://localhost:8080/"
        },
        "id": "xhcl7pDZ_Fk2",
        "outputId": "4c0e0118-565e-4998-ef33-d5545b19de85"
      },
      "execution_count": null,
      "outputs": [
        {
          "output_type": "execute_result",
          "data": {
            "text/plain": [
              "-474637.3125024149"
            ]
          },
          "metadata": {},
          "execution_count": 58
        }
      ]
    },
    {
      "cell_type": "code",
      "source": [
        "lr.coef_"
      ],
      "metadata": {
        "colab": {
          "base_uri": "https://localhost:8080/"
        },
        "id": "umJRqXQT_P74",
        "outputId": "8dc23c4f-5cf3-4e99-ef2f-ac1ea96b7f98"
      },
      "execution_count": null,
      "outputs": [
        {
          "output_type": "execute_result",
          "data": {
            "text/plain": [
              "array([-1.64865365e+03,  1.32799568e+02,  3.87215880e-01,  3.39971458e+04,\n",
              "       -1.20006995e+03,  1.14227289e+03, -2.59622913e+04,  2.46054098e+02,\n",
              "        1.95997354e+02,  2.49064322e+02, -1.18335259e+03, -7.48865461e+03,\n",
              "       -3.24770858e+03, -8.12326511e+02,  1.35586063e+04,  4.30170830e+03,\n",
              "        8.48814352e-10,  1.82956265e+02,  2.62273544e+03,  7.37998371e+03,\n",
              "       -4.46375963e+02,  5.34432961e+01,  6.22007446e+03,  6.25626890e+01,\n",
              "       -4.27479791e+02,  7.14234898e+03,  1.04162467e+03, -3.81858597e+03,\n",
              "        3.87477488e+02, -1.57348376e+02, -2.69188331e+03, -1.83066234e+02,\n",
              "       -1.79849929e+02,  2.12218256e+02, -3.17989479e+03, -5.07333559e+03,\n",
              "       -1.09710190e+03,  4.79986465e+01,  5.23570893e+01,  3.18419664e+00,\n",
              "        4.53209799e+02, -1.29529101e+03,  4.28801367e+03,  3.50871775e+03,\n",
              "       -1.05887437e+04, -2.69274597e+04,  3.24260670e+03,  2.70740484e+03,\n",
              "        9.49191002e+03, -3.20785088e+03,  1.09038494e+03,  2.17360696e+02,\n",
              "        8.00896279e+03,  3.07447940e+00, -2.74182475e+03, -8.82812428e+02,\n",
              "        2.18804174e+03,  1.59965730e+01,  2.25708464e+01,  8.65411139e+01,\n",
              "       -6.78331153e-01, -3.08065669e+02, -1.03023245e+03,  3.53891853e+03])"
            ]
          },
          "metadata": {},
          "execution_count": 59
        }
      ]
    },
    {
      "cell_type": "code",
      "source": [
        "R2=lr.score(pr_x_train,pr_y_train)\n",
        "R2"
      ],
      "metadata": {
        "colab": {
          "base_uri": "https://localhost:8080/"
        },
        "id": "2hF_rg-4_jJN",
        "outputId": "897a956d-b33f-4835-c3b5-01dbf449e934"
      },
      "execution_count": null,
      "outputs": [
        {
          "output_type": "execute_result",
          "data": {
            "text/plain": [
              "0.8685168750773324"
            ]
          },
          "metadata": {},
          "execution_count": 60
        }
      ]
    },
    {
      "cell_type": "code",
      "source": [
        "adj_R2=1-(((1-R2)*(1313-1))/(1313-74-1))\n",
        "adj_R2"
      ],
      "metadata": {
        "colab": {
          "base_uri": "https://localhost:8080/"
        },
        "id": "xQYcjJ1P_j2N",
        "outputId": "495a9631-a370-4fdc-bc1b-f37f874c9511"
      },
      "execution_count": null,
      "outputs": [
        {
          "output_type": "execute_result",
          "data": {
            "text/plain": [
              "0.8606576252838936"
            ]
          },
          "metadata": {},
          "execution_count": 61
        }
      ]
    },
    {
      "cell_type": "code",
      "source": [
        "from sklearn import metrics"
      ],
      "metadata": {
        "id": "rMNuwmr1_kT3"
      },
      "execution_count": null,
      "outputs": []
    },
    {
      "cell_type": "code",
      "source": [
        "pr_mea=metrics.mean_absolute_error(pr_y_test,lr_prd)\n",
        "pr_mea"
      ],
      "metadata": {
        "colab": {
          "base_uri": "https://localhost:8080/"
        },
        "id": "xjXGFszm_km6",
        "outputId": "57f4140e-9bb7-4523-e462-175ab1e23be3"
      },
      "execution_count": null,
      "outputs": [
        {
          "output_type": "execute_result",
          "data": {
            "text/plain": [
              "21605.946945908927"
            ]
          },
          "metadata": {},
          "execution_count": 63
        }
      ]
    },
    {
      "cell_type": "code",
      "source": [
        "pr_mse=metrics.mean_squared_error(pr_y_test,lr_prd)\n",
        "pr_mse"
      ],
      "metadata": {
        "colab": {
          "base_uri": "https://localhost:8080/"
        },
        "id": "45oeFbu5_k-V",
        "outputId": "0f415e61-7424-4f25-8c96-7c7e9d632013"
      },
      "execution_count": null,
      "outputs": [
        {
          "output_type": "execute_result",
          "data": {
            "text/plain": [
              "952667962.1883612"
            ]
          },
          "metadata": {},
          "execution_count": 64
        }
      ]
    },
    {
      "cell_type": "code",
      "source": [
        "pr_rmse=np.sqrt(pr_mse)\n",
        "pr_rmse"
      ],
      "metadata": {
        "colab": {
          "base_uri": "https://localhost:8080/"
        },
        "id": "BXKUKl92_lS6",
        "outputId": "42d1c14b-6fb4-453b-d61d-9e44ca08a2f8"
      },
      "execution_count": null,
      "outputs": [
        {
          "output_type": "execute_result",
          "data": {
            "text/plain": [
              "30865.319732482298"
            ]
          },
          "metadata": {},
          "execution_count": 65
        }
      ]
    },
    {
      "cell_type": "code",
      "source": [
        "error=pr_y_test-lr_prd\n",
        "error"
      ],
      "metadata": {
        "colab": {
          "base_uri": "https://localhost:8080/"
        },
        "id": "j1zapP8yEyPh",
        "outputId": "5d093c41-24b2-4563-b577-13689ebe090d"
      },
      "execution_count": null,
      "outputs": [
        {
          "output_type": "execute_result",
          "data": {
            "text/plain": [
              "1419   -19009.936937\n",
              "494     16904.137319\n",
              "1411    -8868.258917\n",
              "569     -5578.943166\n",
              "486      9365.403933\n",
              "            ...     \n",
              "1281   -33404.716667\n",
              "879     19307.604193\n",
              "546     33100.859030\n",
              "974    -43483.369860\n",
              "568      4632.589987\n",
              "Name: Sale_Price, Length: 146, dtype: float64"
            ]
          },
          "metadata": {},
          "execution_count": 66
        }
      ]
    },
    {
      "cell_type": "code",
      "source": [
        "error_abs=np.absolute(error)#(inverse metrics)\n",
        "error_abs"
      ],
      "metadata": {
        "colab": {
          "base_uri": "https://localhost:8080/"
        },
        "id": "QqPTR2v7EyaT",
        "outputId": "2c4e9bde-d221-4f57-fe6a-61300b23ce39"
      },
      "execution_count": null,
      "outputs": [
        {
          "output_type": "execute_result",
          "data": {
            "text/plain": [
              "1419    19009.936937\n",
              "494     16904.137319\n",
              "1411     8868.258917\n",
              "569      5578.943166\n",
              "486      9365.403933\n",
              "            ...     \n",
              "1281    33404.716667\n",
              "879     19307.604193\n",
              "546     33100.859030\n",
              "974     43483.369860\n",
              "568      4632.589987\n",
              "Name: Sale_Price, Length: 146, dtype: float64"
            ]
          },
          "metadata": {},
          "execution_count": 67
        }
      ]
    },
    {
      "cell_type": "code",
      "source": [
        "pr_mape=np.mean(error_abs/pr_y_test)*100\n",
        "pr_mape"
      ],
      "metadata": {
        "colab": {
          "base_uri": "https://localhost:8080/"
        },
        "id": "sp3B4LUcEyeF",
        "outputId": "2cbdc892-ebef-462f-a08c-459c2be7daac"
      },
      "execution_count": null,
      "outputs": [
        {
          "output_type": "execute_result",
          "data": {
            "text/plain": [
              "13.864981600180352"
            ]
          },
          "metadata": {},
          "execution_count": 68
        }
      ]
    },
    {
      "cell_type": "code",
      "source": [
        "pr_acc1=100-pr_mape\n",
        "pr_acc1"
      ],
      "metadata": {
        "colab": {
          "base_uri": "https://localhost:8080/"
        },
        "id": "Vn7_MtDjEytN",
        "outputId": "c936b7e4-3319-4e44-fa30-d33baeda1dbb"
      },
      "execution_count": null,
      "outputs": [
        {
          "output_type": "execute_result",
          "data": {
            "text/plain": [
              "86.13501839981964"
            ]
          },
          "metadata": {},
          "execution_count": 69
        }
      ]
    },
    {
      "cell_type": "code",
      "source": [
        "plt.scatter(pr_y_test,lr_prd)"
      ],
      "metadata": {
        "colab": {
          "base_uri": "https://localhost:8080/",
          "height": 289
        },
        "id": "m0Y132SRFjqB",
        "outputId": "9c421298-6526-4786-eb85-17d8c521058f"
      },
      "execution_count": null,
      "outputs": [
        {
          "output_type": "execute_result",
          "data": {
            "text/plain": [
              "<matplotlib.collections.PathCollection at 0x7f86fb577f10>"
            ]
          },
          "metadata": {},
          "execution_count": 70
        },
        {
          "output_type": "display_data",
          "data": {
            "text/plain": [
              "<Figure size 432x288 with 1 Axes>"
            ],
            "image/png": "[encoded data removed]"
          },
          "metadata": {}
        }
      ]
    },
    {
      "cell_type": "code",
      "source": [
        "sns.distplot(pr_y_test-lr_prd)"
      ],
      "metadata": {
        "colab": {
          "base_uri": "https://localhost:8080/",
          "height": 378
        },
        "id": "tayeTXg4FkLM",
        "outputId": "7f453826-57a7-40ad-efef-02fbd645bf42"
      },
      "execution_count": null,
      "outputs": [
        {
          "output_type": "stream",
          "name": "stderr",
          "text": [
            "/usr/local/lib/python3.7/dist-packages/seaborn/distributions.py:2619: FutureWarning: `distplot` is a deprecated function and will be removed in a future version. Please adapt your code to use either `displot` (a figure-level function with similar flexibility) or `histplot` (an axes-level function for histograms).\n",
            "  warnings.warn(msg, FutureWarning)\n"
          ]
        },
        {
          "output_type": "execute_result",
          "data": {
            "text/plain": [
              "<matplotlib.axes._subplots.AxesSubplot at 0x7f86fb51e110>"
            ]
          },
          "metadata": {},
          "execution_count": 71
        },
        {
          "output_type": "display_data",
          "data": {
            "text/plain": [
              "<Figure size 432x288 with 1 Axes>"
            ],
            "image/png": "[encoded data removed]"
          },
          "metadata": {}
        }
      ]
    },
    {
      "cell_type": "code",
      "source": [
        ""
      ],
      "metadata": {
        "id": "coJCjmaynRHT"
      },
      "execution_count": null,
      "outputs": []
    },
    {
      "cell_type": "markdown",
      "source": [
        "**Lasso Method**"
      ],
      "metadata": {
        "id": "ZxJEDw6VnTk3"
      }
    },
    {
      "cell_type": "code",
      "source": [
        "from sklearn.linear_model import Lasso\n",
        "lo=Lasso()"
      ],
      "metadata": {
        "id": "U-McoCCaFkRq"
      },
      "execution_count": null,
      "outputs": []
    },
    {
      "cell_type": "code",
      "source": [
        "lo.fit(pr_x_train,pr_y_train)"
      ],
      "metadata": {
        "colab": {
          "base_uri": "https://localhost:8080/"
        },
        "id": "aRsbFrcnhbLJ",
        "outputId": "a4617885-93c0-4079-f7bd-0786ab498fee"
      },
      "execution_count": null,
      "outputs": [
        {
          "output_type": "stream",
          "name": "stderr",
          "text": [
            "/usr/local/lib/python3.7/dist-packages/sklearn/linear_model/_coordinate_descent.py:648: ConvergenceWarning: Objective did not converge. You might want to increase the number of iterations, check the scale of the features or consider increasing regularisation. Duality gap: 5.373e+11, tolerance: 8.354e+08\n",
            "  coef_, l1_reg, l2_reg, X, y, max_iter, tol, rng, random, positive\n"
          ]
        },
        {
          "output_type": "execute_result",
          "data": {
            "text/plain": [
              "Lasso()"
            ]
          },
          "metadata": {},
          "execution_count": 73
        }
      ]
    },
    {
      "cell_type": "code",
      "source": [
        "lo_p=lo.predict(pr_x_test)\n",
        "lo_p"
      ],
      "metadata": {
        "colab": {
          "base_uri": "https://localhost:8080/"
        },
        "id": "ilhiLHwjiQT2",
        "outputId": "4f8b331f-f584-4a43-d466-66f7ed686991"
      },
      "execution_count": null,
      "outputs": [
        {
          "output_type": "execute_result",
          "data": {
            "text/plain": [
              "array([242013.71667274,  74374.76230259, 148904.24056322, 141542.08926337,\n",
              "       146624.79902966,  83299.60038106, 161921.37017365, 196920.04089032,\n",
              "        57611.39023598,  94354.97090717,  75611.59837006, 336085.79528901,\n",
              "       101126.33987171, 216232.52547593, 324489.67960313, 177019.89178653,\n",
              "       172038.8529603 , 341249.46959588, 233447.16876425, 187639.3510684 ,\n",
              "       359622.2792835 ,  67639.15381714, 136044.31135186, 188801.01742123,\n",
              "       196983.89578363, 192705.68506618, 162307.88331013, 301484.24715808,\n",
              "        48486.08923874, 321393.66360526, 104778.37547978, 158442.12512011,\n",
              "       153855.02968542, 191186.15314737, 233138.80276263, 266147.36925861,\n",
              "       124492.5896321 , 192112.97394483, 100235.81699665, 125236.52738515,\n",
              "        69535.91608568, 149517.93460242, 220285.70018379,  67862.48255284,\n",
              "       124581.63448437, 213972.46069458, 194550.43040314, 194697.04559435,\n",
              "       130437.93813931, 284534.21714085, 294071.54423436, 155891.63394778,\n",
              "        65757.43082612,  56460.86986805, 103833.39988441, 139761.04435968,\n",
              "       235403.18929089, 230546.65067945, 314961.14393895, 177369.00552342,\n",
              "       231445.15496569, 141462.40727594, 182108.58196051, 283711.66174207,\n",
              "       151106.02461957, 150406.88074017, 103701.35870273, 228345.57650834,\n",
              "        56769.13318185, 164167.05335555, 110342.51740129, 195805.81936984,\n",
              "       169861.7815512 , 117696.20774836, 137339.41740811, 129376.77277808,\n",
              "       305311.97201063, 176150.7601962 , 322430.18826659, 136426.97958786,\n",
              "       201755.73575997,  92743.05707942, 214033.79209442, 273055.34646542,\n",
              "       410968.38106803, 120899.88123872, 275541.92933653, 201131.62166285,\n",
              "       265226.65847598, 202921.4460779 , 180898.82917919, 128638.60341594,\n",
              "       176248.22034563, 109670.01309658, 173177.01367952, 139443.02431672,\n",
              "       105900.8001037 , 208840.61862341,  93522.00288165, 149563.00982621,\n",
              "       195125.37603417, 160723.98184369, 223786.81893967, 216915.96134614,\n",
              "       263944.3262818 , 202716.09706294, 179369.51939188, 327269.45529855,\n",
              "        83969.70455566, 252554.78909373,  71841.78557257, 161227.92023989,\n",
              "       169258.09480957, 160379.85673794, 139410.48803443, 171267.9921593 ,\n",
              "       152242.96433272, 209325.46497749, 161090.59801764, 263462.24246171,\n",
              "       194534.45469668, 169102.05917388, 154129.90186006, 243769.11982655,\n",
              "       140997.31164   , 241436.38552767, 105500.53110815,  82746.78721915,\n",
              "       201100.87723695,  98425.31039072, 130816.45535497, 139619.34767258,\n",
              "       129436.29630779,  44733.7517132 , 188611.52092798, 128420.89037092,\n",
              "       259905.11194508, 233871.23669378, 131279.31039975,  82616.686821  ,\n",
              "       225997.05188728, 213385.39730042, 117194.66495666, 176894.94188278,\n",
              "       210945.41441557, 311987.37023963])"
            ]
          },
          "metadata": {},
          "execution_count": 74
        }
      ]
    },
    {
      "cell_type": "code",
      "source": [
        "lo.coef_"
      ],
      "metadata": {
        "colab": {
          "base_uri": "https://localhost:8080/"
        },
        "id": "ktCPSOafiQeO",
        "outputId": "218c3737-8817-46ca-942f-2e6718076418"
      },
      "execution_count": null,
      "outputs": [
        {
          "output_type": "execute_result",
          "data": {
            "text/plain": [
              "array([-1.64511689e+03,  1.32901272e+02,  3.86934014e-01,  3.36776030e+04,\n",
              "       -1.19923678e+03,  1.13777416e+03, -2.45347320e+04,  2.46102289e+02,\n",
              "        1.73314689e+02,  2.48519683e+02, -1.18036749e+03, -7.47192908e+03,\n",
              "       -3.24895202e+03, -8.13090518e+02,  1.35604382e+04,  4.29825704e+03,\n",
              "        0.00000000e+00,  1.83095422e+02,  2.62235801e+03,  7.37122635e+03,\n",
              "       -4.45798368e+02,  5.32808311e+01,  6.22094308e+03,  6.25390237e+01,\n",
              "       -4.25220424e+02,  7.13941064e+03,  1.03580967e+03, -3.81912787e+03,\n",
              "        3.85924688e+02, -1.57294709e+02, -2.69021975e+03, -1.83020627e+02,\n",
              "       -1.79802660e+02,  2.12186880e+02, -3.14928753e+03, -5.03065691e+03,\n",
              "       -1.09077708e+03,  4.79117257e+01,  5.22933586e+01,  3.28294778e+00,\n",
              "        4.43382076e+02, -1.29448775e+03,  4.27453810e+03,  3.50177996e+03,\n",
              "       -1.05868542e+04, -2.68801377e+04,  3.23548149e+03,  2.70598555e+03,\n",
              "        9.48145564e+03, -3.20417879e+03,  1.08924069e+03,  2.17405566e+02,\n",
              "        7.99988896e+03,  3.07601704e+00, -2.74021893e+03, -8.78329786e+02,\n",
              "        2.18028219e+03,  1.59834791e+01,  2.24887672e+01,  8.65484787e+01,\n",
              "       -6.81658507e-01, -3.07121936e+02, -1.02643908e+03,  3.54004752e+03])"
            ]
          },
          "metadata": {},
          "execution_count": 75
        }
      ]
    },
    {
      "cell_type": "code",
      "source": [
        "lo_r2=lo.score(pr_x_train,pr_y_train)\n",
        "lo_r2"
      ],
      "metadata": {
        "colab": {
          "base_uri": "https://localhost:8080/"
        },
        "id": "-FZfNO_riQlP",
        "outputId": "ac436df4-fd1d-4408-ee19-ce4b42bf4d7c"
      },
      "execution_count": null,
      "outputs": [
        {
          "output_type": "execute_result",
          "data": {
            "text/plain": [
              "0.868516553346838"
            ]
          },
          "metadata": {},
          "execution_count": 76
        }
      ]
    },
    {
      "cell_type": "code",
      "source": [
        "lo_adj_R2=1-(((1-lo_r2)*(1313-74))/(1313-74-1))\n",
        "lo_adj_R2"
      ],
      "metadata": {
        "colab": {
          "base_uri": "https://localhost:8080/"
        },
        "id": "TWC67SFUiQt0",
        "outputId": "f575834d-b995-4b73-fee5-bb2da2fab4f0"
      },
      "execution_count": null,
      "outputs": [
        {
          "output_type": "execute_result",
          "data": {
            "text/plain": [
              "0.868410347008669"
            ]
          },
          "metadata": {},
          "execution_count": 77
        }
      ]
    },
    {
      "cell_type": "code",
      "source": [
        "df1=pd.DataFrame({\"Importance\":list(lo.coef_),\"columns\":list(pr_x)})\n",
        "df1"
      ],
      "metadata": {
        "colab": {
          "base_uri": "https://localhost:8080/",
          "height": 424
        },
        "id": "hJCjwqvWiQ15",
        "outputId": "5d803a15-0bbc-4b8e-c055-74110ab4cda5"
      },
      "execution_count": null,
      "outputs": [
        {
          "output_type": "execute_result",
          "data": {
            "text/plain": [
              "      Importance              columns\n",
              "0   -1645.116889         Zoning_Class\n",
              "1     132.901272           Lot_Extent\n",
              "2       0.386934             Lot_Size\n",
              "3   33677.602983            Road_Type\n",
              "4   -1199.236779       Property_Shape\n",
              "..           ...                  ...\n",
              "59     86.548479            Pool_Area\n",
              "60     -0.681659  Miscellaneous_Value\n",
              "61   -307.121936           Month_Sold\n",
              "62  -1026.439082            Sale_Type\n",
              "63   3540.047515       Sale_Condition\n",
              "\n",
              "[64 rows x 2 columns]"
            ],
            "text/html": [
              "\n",
              "  <div id=\"df-cfd27083-0fd5-4800-8a5c-2ac467634db2\">\n",
              "    <div class=\"colab-df-container\">\n",
              "      <div>\n",
              "<style scoped>\n",
              "    .dataframe tbody tr th:only-of-type {\n",
              "        vertical-align: middle;\n",
              "    }\n",
              "\n",
              "    .dataframe tbody tr th {\n",
              "        vertical-align: top;\n",
              "    }\n",
              "\n",
              "    .dataframe thead th {\n",
              "        text-align: right;\n",
              "    }\n",
              "</style>\n",
              "<table border=\"1\" class=\"dataframe\">\n",
              "  <thead>\n",
              "    <tr style=\"text-align: right;\">\n",
              "      <th></th>\n",
              "      <th>Importance</th>\n",
              "      <th>columns</th>\n",
              "    </tr>\n",
              "  </thead>\n",
              "  <tbody>\n",
              "    <tr>\n",
              "      <th>0</th>\n",
              "      <td>-1645.116889</td>\n",
              "      <td>Zoning_Class</td>\n",
              "    </tr>\n",
              "    <tr>\n",
              "      <th>1</th>\n",
              "      <td>132.901272</td>\n",
              "      <td>Lot_Extent</td>\n",
              "    </tr>\n",
              "    <tr>\n",
              "      <th>2</th>\n",
              "      <td>0.386934</td>\n",
              "      <td>Lot_Size</td>\n",
              "    </tr>\n",
              "    <tr>\n",
              "      <th>3</th>\n",
              "      <td>33677.602983</td>\n",
              "      <td>Road_Type</td>\n",
              "    </tr>\n",
              "    <tr>\n",
              "      <th>4</th>\n",
              "      <td>-1199.236779</td>\n",
              "      <td>Property_Shape</td>\n",
              "    </tr>\n",
              "    <tr>\n",
              "      <th>...</th>\n",
              "      <td>...</td>\n",
              "      <td>...</td>\n",
              "    </tr>\n",
              "    <tr>\n",
              "      <th>59</th>\n",
              "      <td>86.548479</td>\n",
              "      <td>Pool_Area</td>\n",
              "    </tr>\n",
              "    <tr>\n",
              "      <th>60</th>\n",
              "      <td>-0.681659</td>\n",
              "      <td>Miscellaneous_Value</td>\n",
              "    </tr>\n",
              "    <tr>\n",
              "      <th>61</th>\n",
              "      <td>-307.121936</td>\n",
              "      <td>Month_Sold</td>\n",
              "    </tr>\n",
              "    <tr>\n",
              "      <th>62</th>\n",
              "      <td>-1026.439082</td>\n",
              "      <td>Sale_Type</td>\n",
              "    </tr>\n",
              "    <tr>\n",
              "      <th>63</th>\n",
              "      <td>3540.047515</td>\n",
              "      <td>Sale_Condition</td>\n",
              "    </tr>\n",
              "  </tbody>\n",
              "</table>\n",
              "<p>64 rows × 2 columns</p>\n",
              "</div>\n",
              "      <button class=\"colab-df-convert\" onclick=\"convertToInteractive('df-cfd27083-0fd5-4800-8a5c-2ac467634db2')\"\n",
              "              title=\"Convert this dataframe to an interactive table.\"\n",
              "              style=\"display:none;\">\n",
              "        \n",
              "  <svg xmlns=\"http://www.w3.org/2000/svg\" height=\"24px\"viewBox=\"0 0 24 24\"\n",
              "       width=\"24px\">\n",
              "    <path d=\"M0 0h24v24H0V0z\" fill=\"none\"/>\n",
              "    <path d=\"M18.56 5.44l.94 2.06.94-2.06 2.06-.94-2.06-.94-.94-2.06-.94 2.06-2.06.94zm-11 1L8.5 8.5l.94-2.06 2.06-.94-2.06-.94L8.5 2.5l-.94 2.06-2.06.94zm10 10l.94 2.06.94-2.06 2.06-.94-2.06-.94-.94-2.06-.94 2.06-2.06.94z\"/><path d=\"M17.41 7.96l-1.37-1.37c-.4-.4-.92-.59-1.43-.59-.52 0-1.04.2-1.43.59L10.3 9.45l-7.72 7.72c-.78.78-.78 2.05 0 2.83L4 21.41c.39.39.9.59 1.41.59.51 0 1.02-.2 1.41-.59l7.78-7.78 2.81-2.81c.8-.78.8-2.07 0-2.86zM5.41 20L4 18.59l7.72-7.72 1.47 1.35L5.41 20z\"/>\n",
              "  </svg>\n",
              "      </button>\n",
              "      \n",
              "  <style>\n",
              "    .colab-df-container {\n",
              "      display:flex;\n",
              "      flex-wrap:wrap;\n",
              "      gap: 12px;\n",
              "    }\n",
              "\n",
              "    .colab-df-convert {\n",
              "      background-color: #E8F0FE;\n",
              "      border: none;\n",
              "      border-radius: 50%;\n",
              "      cursor: pointer;\n",
              "      display: none;\n",
              "      fill: #1967D2;\n",
              "      height: 32px;\n",
              "      padding: 0 0 0 0;\n",
              "      width: 32px;\n",
              "    }\n",
              "\n",
              "    .colab-df-convert:hover {\n",
              "      background-color: #E2EBFA;\n",
              "      box-shadow: 0px 1px 2px rgba(60, 64, 67, 0.3), 0px 1px 3px 1px rgba(60, 64, 67, 0.15);\n",
              "      fill: #174EA6;\n",
              "    }\n",
              "\n",
              "    [theme=dark] .colab-df-convert {\n",
              "      background-color: #3B4455;\n",
              "      fill: #D2E3FC;\n",
              "    }\n",
              "\n",
              "    [theme=dark] .colab-df-convert:hover {\n",
              "      background-color: #434B5C;\n",
              "      box-shadow: 0px 1px 3px 1px rgba(0, 0, 0, 0.15);\n",
              "      filter: drop-shadow(0px 1px 2px rgba(0, 0, 0, 0.3));\n",
              "      fill: #FFFFFF;\n",
              "    }\n",
              "  </style>\n",
              "\n",
              "      <script>\n",
              "        const buttonEl =\n",
              "          document.querySelector('#df-cfd27083-0fd5-4800-8a5c-2ac467634db2 button.colab-df-convert');\n",
              "        buttonEl.style.display =\n",
              "          google.colab.kernel.accessAllowed ? 'block' : 'none';\n",
              "\n",
              "        async function convertToInteractive(key) {\n",
              "          const element = document.querySelector('#df-cfd27083-0fd5-4800-8a5c-2ac467634db2');\n",
              "          const dataTable =\n",
              "            await google.colab.kernel.invokeFunction('convertToInteractive',\n",
              "                                                     [key], {});\n",
              "          if (!dataTable) return;\n",
              "\n",
              "          const docLinkHtml = 'Like what you see? Visit the ' +\n",
              "            '<a target=\"_blank\" href=https://colab.research.google.com/notebooks/data_table.ipynb>data table notebook</a>'\n",
              "            + ' to learn more about interactive tables.';\n",
              "          element.innerHTML = '';\n",
              "          dataTable['output_type'] = 'display_data';\n",
              "          await google.colab.output.renderOutput(dataTable, element);\n",
              "          const docLink = document.createElement('div');\n",
              "          docLink.innerHTML = docLinkHtml;\n",
              "          element.appendChild(docLink);\n",
              "        }\n",
              "      </script>\n",
              "    </div>\n",
              "  </div>\n",
              "  "
            ]
          },
          "metadata": {},
          "execution_count": 78
        }
      ]
    },
    {
      "cell_type": "code",
      "source": [
        "new=pd.DataFrame(ppt,columns=[\"Building_Class\",\"Brick_Veneer_Area\",\"Construction_Year\",\"First_Floor_Area\",\"Total_Basement_Area\",\"Garage_Size\",\"Overall_Material\",\"Grade_Living_Area\",\"Lot_Extent\",\"Lot_Size\",\"Month_Sold\",\"House_Condition\",\"Sale_Condition\",\"Sale_Price\"])\n",
        "new"
      ],
      "metadata": {
        "colab": {
          "base_uri": "https://localhost:8080/",
          "height": 488
        },
        "id": "MEMEECYpiQ8w",
        "outputId": "19624775-5ae7-41ed-cc75-c33b90cc5af0"
      },
      "execution_count": null,
      "outputs": [
        {
          "output_type": "execute_result",
          "data": {
            "text/plain": [
              "      Building_Class  Brick_Veneer_Area  Construction_Year  First_Floor_Area  \\\n",
              "0                 60                129               1816               856   \n",
              "1                 20                  0               1816              1262   \n",
              "2                 60                105               1816               920   \n",
              "3                 70                  0               1816               961   \n",
              "4                 60                222               1816              1145   \n",
              "...              ...                ...                ...               ...   \n",
              "1454              20                  0               1816              1221   \n",
              "1455              60                  0               1816               953   \n",
              "1456              20                 73               1816              2073   \n",
              "1457              70                  0               1816              1188   \n",
              "1458              20                  0               1816              1078   \n",
              "\n",
              "      Total_Basement_Area  Garage_Size  Overall_Material  Grade_Living_Area  \\\n",
              "0                   856.0            2                 7               1710   \n",
              "1                  1262.0            2                 6               1262   \n",
              "2                   920.0            2                 7               1786   \n",
              "3                   756.0            3                 7               1717   \n",
              "4                  1145.0            3                 8               2198   \n",
              "...                   ...          ...               ...                ...   \n",
              "1454               1221.0            2                 7               1221   \n",
              "1455                953.0            2                 6               1647   \n",
              "1456               1542.0            2                 6               2073   \n",
              "1457               1152.0            1                 7               2340   \n",
              "1458               1078.0            1                 5               1078   \n",
              "\n",
              "      Lot_Extent  Lot_Size  Month_Sold  House_Condition  Sale_Condition  \\\n",
              "0             36      8450           2                5               4   \n",
              "1             52      9600           5                8               4   \n",
              "2             39     11250           9                5               4   \n",
              "3             31      9550           2                5               0   \n",
              "4             56     14260          12                5               4   \n",
              "...          ...       ...         ...              ...             ...   \n",
              "1454          33      7500          10                5               4   \n",
              "1455          33      7917           8                5               4   \n",
              "1456          57     13175           2                6               4   \n",
              "1457          37      9042           5                9               4   \n",
              "1458          39      9717           4                6               4   \n",
              "\n",
              "      Sale_Price  \n",
              "0         208500  \n",
              "1         181500  \n",
              "2         223500  \n",
              "3         140000  \n",
              "4         250000  \n",
              "...          ...  \n",
              "1454      185000  \n",
              "1455      175000  \n",
              "1456      210000  \n",
              "1457      266500  \n",
              "1458      142125  \n",
              "\n",
              "[1459 rows x 14 columns]"
            ],
            "text/html": [
              "\n",
              "  <div id=\"df-299f1d27-0ddc-4360-9f81-fa9f6e37f998\">\n",
              "    <div class=\"colab-df-container\">\n",
              "      <div>\n",
              "<style scoped>\n",
              "    .dataframe tbody tr th:only-of-type {\n",
              "        vertical-align: middle;\n",
              "    }\n",
              "\n",
              "    .dataframe tbody tr th {\n",
              "        vertical-align: top;\n",
              "    }\n",
              "\n",
              "    .dataframe thead th {\n",
              "        text-align: right;\n",
              "    }\n",
              "</style>\n",
              "<table border=\"1\" class=\"dataframe\">\n",
              "  <thead>\n",
              "    <tr style=\"text-align: right;\">\n",
              "      <th></th>\n",
              "      <th>Building_Class</th>\n",
              "      <th>Brick_Veneer_Area</th>\n",
              "      <th>Construction_Year</th>\n",
              "      <th>First_Floor_Area</th>\n",
              "      <th>Total_Basement_Area</th>\n",
              "      <th>Garage_Size</th>\n",
              "      <th>Overall_Material</th>\n",
              "      <th>Grade_Living_Area</th>\n",
              "      <th>Lot_Extent</th>\n",
              "      <th>Lot_Size</th>\n",
              "      <th>Month_Sold</th>\n",
              "      <th>House_Condition</th>\n",
              "      <th>Sale_Condition</th>\n",
              "      <th>Sale_Price</th>\n",
              "    </tr>\n",
              "  </thead>\n",
              "  <tbody>\n",
              "    <tr>\n",
              "      <th>0</th>\n",
              "      <td>60</td>\n",
              "      <td>129</td>\n",
              "      <td>1816</td>\n",
              "      <td>856</td>\n",
              "      <td>856.0</td>\n",
              "      <td>2</td>\n",
              "      <td>7</td>\n",
              "      <td>1710</td>\n",
              "      <td>36</td>\n",
              "      <td>8450</td>\n",
              "      <td>2</td>\n",
              "      <td>5</td>\n",
              "      <td>4</td>\n",
              "      <td>208500</td>\n",
              "    </tr>\n",
              "    <tr>\n",
              "      <th>1</th>\n",
              "      <td>20</td>\n",
              "      <td>0</td>\n",
              "      <td>1816</td>\n",
              "      <td>1262</td>\n",
              "      <td>1262.0</td>\n",
              "      <td>2</td>\n",
              "      <td>6</td>\n",
              "      <td>1262</td>\n",
              "      <td>52</td>\n",
              "      <td>9600</td>\n",
              "      <td>5</td>\n",
              "      <td>8</td>\n",
              "      <td>4</td>\n",
              "      <td>181500</td>\n",
              "    </tr>\n",
              "    <tr>\n",
              "      <th>2</th>\n",
              "      <td>60</td>\n",
              "      <td>105</td>\n",
              "      <td>1816</td>\n",
              "      <td>920</td>\n",
              "      <td>920.0</td>\n",
              "      <td>2</td>\n",
              "      <td>7</td>\n",
              "      <td>1786</td>\n",
              "      <td>39</td>\n",
              "      <td>11250</td>\n",
              "      <td>9</td>\n",
              "      <td>5</td>\n",
              "      <td>4</td>\n",
              "      <td>223500</td>\n",
              "    </tr>\n",
              "    <tr>\n",
              "      <th>3</th>\n",
              "      <td>70</td>\n",
              "      <td>0</td>\n",
              "      <td>1816</td>\n",
              "      <td>961</td>\n",
              "      <td>756.0</td>\n",
              "      <td>3</td>\n",
              "      <td>7</td>\n",
              "      <td>1717</td>\n",
              "      <td>31</td>\n",
              "      <td>9550</td>\n",
              "      <td>2</td>\n",
              "      <td>5</td>\n",
              "      <td>0</td>\n",
              "      <td>140000</td>\n",
              "    </tr>\n",
              "    <tr>\n",
              "      <th>4</th>\n",
              "      <td>60</td>\n",
              "      <td>222</td>\n",
              "      <td>1816</td>\n",
              "      <td>1145</td>\n",
              "      <td>1145.0</td>\n",
              "      <td>3</td>\n",
              "      <td>8</td>\n",
              "      <td>2198</td>\n",
              "      <td>56</td>\n",
              "      <td>14260</td>\n",
              "      <td>12</td>\n",
              "      <td>5</td>\n",
              "      <td>4</td>\n",
              "      <td>250000</td>\n",
              "    </tr>\n",
              "    <tr>\n",
              "      <th>...</th>\n",
              "      <td>...</td>\n",
              "      <td>...</td>\n",
              "      <td>...</td>\n",
              "      <td>...</td>\n",
              "      <td>...</td>\n",
              "      <td>...</td>\n",
              "      <td>...</td>\n",
              "      <td>...</td>\n",
              "      <td>...</td>\n",
              "      <td>...</td>\n",
              "      <td>...</td>\n",
              "      <td>...</td>\n",
              "      <td>...</td>\n",
              "      <td>...</td>\n",
              "    </tr>\n",
              "    <tr>\n",
              "      <th>1454</th>\n",
              "      <td>20</td>\n",
              "      <td>0</td>\n",
              "      <td>1816</td>\n",
              "      <td>1221</td>\n",
              "      <td>1221.0</td>\n",
              "      <td>2</td>\n",
              "      <td>7</td>\n",
              "      <td>1221</td>\n",
              "      <td>33</td>\n",
              "      <td>7500</td>\n",
              "      <td>10</td>\n",
              "      <td>5</td>\n",
              "      <td>4</td>\n",
              "      <td>185000</td>\n",
              "    </tr>\n",
              "    <tr>\n",
              "      <th>1455</th>\n",
              "      <td>60</td>\n",
              "      <td>0</td>\n",
              "      <td>1816</td>\n",
              "      <td>953</td>\n",
              "      <td>953.0</td>\n",
              "      <td>2</td>\n",
              "      <td>6</td>\n",
              "      <td>1647</td>\n",
              "      <td>33</td>\n",
              "      <td>7917</td>\n",
              "      <td>8</td>\n",
              "      <td>5</td>\n",
              "      <td>4</td>\n",
              "      <td>175000</td>\n",
              "    </tr>\n",
              "    <tr>\n",
              "      <th>1456</th>\n",
              "      <td>20</td>\n",
              "      <td>73</td>\n",
              "      <td>1816</td>\n",
              "      <td>2073</td>\n",
              "      <td>1542.0</td>\n",
              "      <td>2</td>\n",
              "      <td>6</td>\n",
              "      <td>2073</td>\n",
              "      <td>57</td>\n",
              "      <td>13175</td>\n",
              "      <td>2</td>\n",
              "      <td>6</td>\n",
              "      <td>4</td>\n",
              "      <td>210000</td>\n",
              "    </tr>\n",
              "    <tr>\n",
              "      <th>1457</th>\n",
              "      <td>70</td>\n",
              "      <td>0</td>\n",
              "      <td>1816</td>\n",
              "      <td>1188</td>\n",
              "      <td>1152.0</td>\n",
              "      <td>1</td>\n",
              "      <td>7</td>\n",
              "      <td>2340</td>\n",
              "      <td>37</td>\n",
              "      <td>9042</td>\n",
              "      <td>5</td>\n",
              "      <td>9</td>\n",
              "      <td>4</td>\n",
              "      <td>266500</td>\n",
              "    </tr>\n",
              "    <tr>\n",
              "      <th>1458</th>\n",
              "      <td>20</td>\n",
              "      <td>0</td>\n",
              "      <td>1816</td>\n",
              "      <td>1078</td>\n",
              "      <td>1078.0</td>\n",
              "      <td>1</td>\n",
              "      <td>5</td>\n",
              "      <td>1078</td>\n",
              "      <td>39</td>\n",
              "      <td>9717</td>\n",
              "      <td>4</td>\n",
              "      <td>6</td>\n",
              "      <td>4</td>\n",
              "      <td>142125</td>\n",
              "    </tr>\n",
              "  </tbody>\n",
              "</table>\n",
              "<p>1459 rows × 14 columns</p>\n",
              "</div>\n",
              "      <button class=\"colab-df-convert\" onclick=\"convertToInteractive('df-299f1d27-0ddc-4360-9f81-fa9f6e37f998')\"\n",
              "              title=\"Convert this dataframe to an interactive table.\"\n",
              "              style=\"display:none;\">\n",
              "        \n",
              "  <svg xmlns=\"http://www.w3.org/2000/svg\" height=\"24px\"viewBox=\"0 0 24 24\"\n",
              "       width=\"24px\">\n",
              "    <path d=\"M0 0h24v24H0V0z\" fill=\"none\"/>\n",
              "    <path d=\"M18.56 5.44l.94 2.06.94-2.06 2.06-.94-2.06-.94-.94-2.06-.94 2.06-2.06.94zm-11 1L8.5 8.5l.94-2.06 2.06-.94-2.06-.94L8.5 2.5l-.94 2.06-2.06.94zm10 10l.94 2.06.94-2.06 2.06-.94-2.06-.94-.94-2.06-.94 2.06-2.06.94z\"/><path d=\"M17.41 7.96l-1.37-1.37c-.4-.4-.92-.59-1.43-.59-.52 0-1.04.2-1.43.59L10.3 9.45l-7.72 7.72c-.78.78-.78 2.05 0 2.83L4 21.41c.39.39.9.59 1.41.59.51 0 1.02-.2 1.41-.59l7.78-7.78 2.81-2.81c.8-.78.8-2.07 0-2.86zM5.41 20L4 18.59l7.72-7.72 1.47 1.35L5.41 20z\"/>\n",
              "  </svg>\n",
              "      </button>\n",
              "      \n",
              "  <style>\n",
              "    .colab-df-container {\n",
              "      display:flex;\n",
              "      flex-wrap:wrap;\n",
              "      gap: 12px;\n",
              "    }\n",
              "\n",
              "    .colab-df-convert {\n",
              "      background-color: #E8F0FE;\n",
              "      border: none;\n",
              "      border-radius: 50%;\n",
              "      cursor: pointer;\n",
              "      display: none;\n",
              "      fill: #1967D2;\n",
              "      height: 32px;\n",
              "      padding: 0 0 0 0;\n",
              "      width: 32px;\n",
              "    }\n",
              "\n",
              "    .colab-df-convert:hover {\n",
              "      background-color: #E2EBFA;\n",
              "      box-shadow: 0px 1px 2px rgba(60, 64, 67, 0.3), 0px 1px 3px 1px rgba(60, 64, 67, 0.15);\n",
              "      fill: #174EA6;\n",
              "    }\n",
              "\n",
              "    [theme=dark] .colab-df-convert {\n",
              "      background-color: #3B4455;\n",
              "      fill: #D2E3FC;\n",
              "    }\n",
              "\n",
              "    [theme=dark] .colab-df-convert:hover {\n",
              "      background-color: #434B5C;\n",
              "      box-shadow: 0px 1px 3px 1px rgba(0, 0, 0, 0.15);\n",
              "      filter: drop-shadow(0px 1px 2px rgba(0, 0, 0, 0.3));\n",
              "      fill: #FFFFFF;\n",
              "    }\n",
              "  </style>\n",
              "\n",
              "      <script>\n",
              "        const buttonEl =\n",
              "          document.querySelector('#df-299f1d27-0ddc-4360-9f81-fa9f6e37f998 button.colab-df-convert');\n",
              "        buttonEl.style.display =\n",
              "          google.colab.kernel.accessAllowed ? 'block' : 'none';\n",
              "\n",
              "        async function convertToInteractive(key) {\n",
              "          const element = document.querySelector('#df-299f1d27-0ddc-4360-9f81-fa9f6e37f998');\n",
              "          const dataTable =\n",
              "            await google.colab.kernel.invokeFunction('convertToInteractive',\n",
              "                                                     [key], {});\n",
              "          if (!dataTable) return;\n",
              "\n",
              "          const docLinkHtml = 'Like what you see? Visit the ' +\n",
              "            '<a target=\"_blank\" href=https://colab.research.google.com/notebooks/data_table.ipynb>data table notebook</a>'\n",
              "            + ' to learn more about interactive tables.';\n",
              "          element.innerHTML = '';\n",
              "          dataTable['output_type'] = 'display_data';\n",
              "          await google.colab.output.renderOutput(dataTable, element);\n",
              "          const docLink = document.createElement('div');\n",
              "          docLink.innerHTML = docLinkHtml;\n",
              "          element.appendChild(docLink);\n",
              "        }\n",
              "      </script>\n",
              "    </div>\n",
              "  </div>\n",
              "  "
            ]
          },
          "metadata": {},
          "execution_count": 79
        }
      ]
    },
    {
      "cell_type": "code",
      "source": [
        "new_x=new.iloc[:,0:13]\n",
        "new_y=new.iloc[:,-1]"
      ],
      "metadata": {
        "id": "dgQbcpOtiRFQ"
      },
      "execution_count": null,
      "outputs": []
    },
    {
      "cell_type": "code",
      "source": [
        "new_y.head()"
      ],
      "metadata": {
        "colab": {
          "base_uri": "https://localhost:8080/"
        },
        "id": "B1NXMubkiRJD",
        "outputId": "f17b5b36-8344-4957-ac77-e0c3a38cbee2"
      },
      "execution_count": null,
      "outputs": [
        {
          "output_type": "execute_result",
          "data": {
            "text/plain": [
              "0    208500\n",
              "1    181500\n",
              "2    223500\n",
              "3    140000\n",
              "4    250000\n",
              "Name: Sale_Price, dtype: int64"
            ]
          },
          "metadata": {},
          "execution_count": 84
        }
      ]
    },
    {
      "cell_type": "code",
      "source": [
        "new_x_train,new_x_test,new_y_train,new_y_test=train_test_split(new_x,new_y,test_size=0.1,random_state=101)"
      ],
      "metadata": {
        "id": "X68mJxdwiRMf"
      },
      "execution_count": null,
      "outputs": []
    },
    {
      "cell_type": "code",
      "source": [
        "new_x_train.shape,new_x_test.shape,new_y_train.shape,new_y_test.shape"
      ],
      "metadata": {
        "colab": {
          "base_uri": "https://localhost:8080/"
        },
        "id": "gWqR60UTiRPb",
        "outputId": "d0d7e156-2a23-4951-d716-dc73eee2924c"
      },
      "execution_count": null,
      "outputs": [
        {
          "output_type": "execute_result",
          "data": {
            "text/plain": [
              "((1313, 13), (146, 13), (1313,), (146,))"
            ]
          },
          "metadata": {},
          "execution_count": 86
        }
      ]
    },
    {
      "cell_type": "code",
      "source": [
        "lr.fit(new_x_train,new_y_train)"
      ],
      "metadata": {
        "colab": {
          "base_uri": "https://localhost:8080/"
        },
        "id": "2GYuEB-_l4zH",
        "outputId": "22903e12-a8f7-461e-dba7-835fa821660d"
      },
      "execution_count": null,
      "outputs": [
        {
          "output_type": "execute_result",
          "data": {
            "text/plain": [
              "LinearRegression()"
            ]
          },
          "metadata": {},
          "execution_count": 90
        }
      ]
    },
    {
      "cell_type": "code",
      "source": [
        "lr_Np=lr.predict(new_x_test)\n",
        "lr_Np"
      ],
      "metadata": {
        "colab": {
          "base_uri": "https://localhost:8080/"
        },
        "id": "Nb-OhgOkl5Su",
        "outputId": "2b6611de-824c-4e1f-c0a4-db509f3c6b33"
      },
      "execution_count": null,
      "outputs": [
        {
          "output_type": "execute_result",
          "data": {
            "text/plain": [
              "array([208919.2078621 , 210721.41084667,  49354.25418717, 144426.04228513,\n",
              "       178991.78420683, 173654.93173815, 304295.66185259, 190391.39470345,\n",
              "       185608.98935486, 180628.60299694, 138927.78572578, 203829.64820707,\n",
              "       238662.65847657, 164702.52311881,  93874.54697849, 109931.9877307 ,\n",
              "       259593.47904572, 254398.597393  , 145208.14713973, 137943.64751834,\n",
              "       132213.06432576, 355510.05069113, 169848.31298931, 210730.91024288,\n",
              "        53124.65575393,  66671.58270188, 136618.33455252, 201442.44726733,\n",
              "       173335.10545142, 111833.74600113, 193606.27309531, 112495.79951319,\n",
              "       273451.60646195, 204143.44619762, 129142.56563841, 124042.35337518,\n",
              "       300372.09973332, 140931.01306457, 357883.539724  , 215275.60883481,\n",
              "       171441.18246004, 195816.47932634, 208862.93022109, 119896.27197156,\n",
              "       247522.54993048, 176914.42617838, 124412.80626227, 132451.9741124 ,\n",
              "       117425.06282234,  26910.87457111, 133749.34925971, 161183.94688051,\n",
              "        86517.95552067, 130094.47574033, 173925.61860293,  38576.33664699,\n",
              "        84846.13161433, 143085.23666823, 231492.24462783, 187789.74132691,\n",
              "       171361.06769508, 138859.26367605,  72260.73247395, 276446.67901495,\n",
              "       182784.01137117, 245485.58799145, 220543.86232653, 201352.92959651,\n",
              "       152774.33571707, 190033.12048544, 120846.78901463, 194621.01380413,\n",
              "       207392.75871785, 117031.13300623,  43714.79651122, 300505.86432673,\n",
              "       129527.18521826,  67550.22347355, 204324.8456489 ,  41921.59369995,\n",
              "       110616.37808353, 227931.12846835, 197851.89248129, 151342.98766631,\n",
              "       127029.08032283, 236664.66005351, 184269.33674974, 107980.05791785,\n",
              "       165337.68599482, 130501.33705824, 165122.88149743, 313355.99756636,\n",
              "       167314.93393625, 119905.99926315, 106410.41396044, 258447.24150784,\n",
              "       202071.73040438, 284215.16518044, 151206.01910744, 196125.45622341,\n",
              "        86034.95771929, 213957.02850581, 113918.97990175, 109104.28907474,\n",
              "        20925.91357708, 160704.97796009,  30262.10641299, 277670.28276084,\n",
              "       183212.65932714, 205756.31958433, 112946.935171  , 164780.91700558,\n",
              "       244475.15544298, 167382.13294175, 140268.91306768, 152924.83275217,\n",
              "       261097.95057009, 105168.72782106,  54135.84333521, 179999.69626244,\n",
              "       263082.90450874, 142271.9896846 , 209308.55304712,  64963.3806629 ,\n",
              "       186754.21353177, 223498.13096225,  90922.26499417, 166994.07044015,\n",
              "       133919.17791565, 303313.39128569,  91773.80911676, 347130.14555387,\n",
              "       393879.01165606, 218934.58959724, 155303.48669543, 158852.0254051 ,\n",
              "       241898.4808555 , 115580.53408706, 106061.14123537, 201304.97250056,\n",
              "       357780.90173048, 161276.98155041, 130349.4254202 ,  64280.71639949,\n",
              "       411845.07557829, 282763.59866577])"
            ]
          },
          "metadata": {},
          "execution_count": 92
        }
      ]
    },
    {
      "cell_type": "code",
      "source": [
        "lr.coef_"
      ],
      "metadata": {
        "colab": {
          "base_uri": "https://localhost:8080/"
        },
        "id": "nBBdmvvIl5WZ",
        "outputId": "7e9f6435-9c82-4494-a996-2e63442a3cc7"
      },
      "execution_count": null,
      "outputs": [
        {
          "output_type": "execute_result",
          "data": {
            "text/plain": [
              "array([-1.12108552e+02,  4.99516569e+01, -1.10028076e-09, -1.12689923e+01,\n",
              "        4.43604961e+01,  1.45060661e+04,  2.16008876e+04,  5.23469005e+01,\n",
              "        5.06575752e+01,  4.81533721e-01, -2.64707067e+02,  3.22490075e+03,\n",
              "        4.05597319e+03])"
            ]
          },
          "metadata": {},
          "execution_count": 154
        }
      ]
    },
    {
      "cell_type": "code",
      "source": [
        "lr_r2=lo.score(new_x_train,new_y_train)\n",
        "lr_r2"
      ],
      "metadata": {
        "colab": {
          "base_uri": "https://localhost:8080/"
        },
        "id": "cUQtTkFm2bD4",
        "outputId": "37707d80-01db-4239-b98a-5a8b3635cdd3"
      },
      "execution_count": null,
      "outputs": [
        {
          "output_type": "execute_result",
          "data": {
            "text/plain": [
              "0.7903310508521946"
            ]
          },
          "metadata": {},
          "execution_count": 95
        }
      ]
    },
    {
      "cell_type": "code",
      "source": [
        "lr_adj_R2=1-(((1-lo_r2)*(1313-1))/(1313-13-1))\n",
        "lr_adj_R2"
      ],
      "metadata": {
        "colab": {
          "base_uri": "https://localhost:8080/"
        },
        "id": "Tc-RTsXm2bHr",
        "outputId": "dc6d4333-03fa-4da1-92b1-85987d9e74cb"
      },
      "execution_count": null,
      "outputs": [
        {
          "output_type": "execute_result",
          "data": {
            "text/plain": [
              "0.8672007066905707"
            ]
          },
          "metadata": {},
          "execution_count": 96
        }
      ]
    },
    {
      "cell_type": "code",
      "source": [
        "new_mae=metrics.mean_absolute_error(new_y_test,lr_Np)\n",
        "new_mae"
      ],
      "metadata": {
        "colab": {
          "base_uri": "https://localhost:8080/"
        },
        "id": "T4zhvVoPQGA_",
        "outputId": "54f49566-7b81-4276-ec2e-2893208f7163"
      },
      "execution_count": null,
      "outputs": [
        {
          "output_type": "execute_result",
          "data": {
            "text/plain": [
              "24190.58704403193"
            ]
          },
          "metadata": {},
          "execution_count": 98
        }
      ]
    },
    {
      "cell_type": "code",
      "source": [
        "new_mse=metrics.mean_squared_error(new_y_test,lr_Np)\n",
        "new_mse"
      ],
      "metadata": {
        "colab": {
          "base_uri": "https://localhost:8080/"
        },
        "id": "5vDmwvn7QY5s",
        "outputId": "e3355a9d-7bbb-42bf-af46-c705f16782e7"
      },
      "execution_count": null,
      "outputs": [
        {
          "output_type": "execute_result",
          "data": {
            "text/plain": [
              "971597822.9988159"
            ]
          },
          "metadata": {},
          "execution_count": 99
        }
      ]
    },
    {
      "cell_type": "code",
      "source": [
        "new_rmse=np.sqrt(new_mse)\n",
        "new_rmse"
      ],
      "metadata": {
        "colab": {
          "base_uri": "https://localhost:8080/"
        },
        "id": "Y54ge-C3QZGl",
        "outputId": "33e378fc-73e0-439d-ef78-ab96eff8c943"
      },
      "execution_count": null,
      "outputs": [
        {
          "output_type": "execute_result",
          "data": {
            "text/plain": [
              "31170.4639522548"
            ]
          },
          "metadata": {},
          "execution_count": 101
        }
      ]
    },
    {
      "cell_type": "code",
      "source": [
        "error=new_y_test-lr_prd\n",
        "error"
      ],
      "metadata": {
        "colab": {
          "base_uri": "https://localhost:8080/"
        },
        "id": "tVjTsGAUQZJ0",
        "outputId": "e5a71c0a-89d5-433e-f628-481ce9e4dc3b"
      },
      "execution_count": null,
      "outputs": [
        {
          "output_type": "execute_result",
          "data": {
            "text/plain": [
              "666    -113009.936937\n",
              "104      95104.137319\n",
              "528     -62868.258917\n",
              "18       17461.056834\n",
              "1151      3265.403933\n",
              "            ...      \n",
              "439    -103404.716667\n",
              "586      12807.604193\n",
              "1038    -79899.140970\n",
              "1373    255516.630140\n",
              "552     -56467.410013\n",
              "Name: Sale_Price, Length: 146, dtype: float64"
            ]
          },
          "metadata": {},
          "execution_count": 103
        }
      ]
    },
    {
      "cell_type": "code",
      "source": [
        "error_abs=np.absolute(error)\n",
        "error_abs"
      ],
      "metadata": {
        "colab": {
          "base_uri": "https://localhost:8080/"
        },
        "id": "BgPaExwQQZNQ",
        "outputId": "78ab29c5-62cd-41c3-b515-6c7d5857324f"
      },
      "execution_count": null,
      "outputs": [
        {
          "output_type": "execute_result",
          "data": {
            "text/plain": [
              "666     113009.936937\n",
              "104      95104.137319\n",
              "528      62868.258917\n",
              "18       17461.056834\n",
              "1151      3265.403933\n",
              "            ...      \n",
              "439     103404.716667\n",
              "586      12807.604193\n",
              "1038     79899.140970\n",
              "1373    255516.630140\n",
              "552      56467.410013\n",
              "Name: Sale_Price, Length: 146, dtype: float64"
            ]
          },
          "metadata": {},
          "execution_count": 104
        }
      ]
    },
    {
      "cell_type": "code",
      "source": [
        "new_mape=np.mean(error_abs/new_y_test)*100\n",
        "new_mape"
      ],
      "metadata": {
        "colab": {
          "base_uri": "https://localhost:8080/"
        },
        "id": "gK_QdbBVRx8H",
        "outputId": "ec069661-6849-4028-c7ea-550420a2a5bb"
      },
      "execution_count": null,
      "outputs": [
        {
          "output_type": "execute_result",
          "data": {
            "text/plain": [
              "58.777937476795074"
            ]
          },
          "metadata": {},
          "execution_count": 105
        }
      ]
    },
    {
      "cell_type": "code",
      "source": [
        "new_acc1=100-new_mape\n",
        "new_acc1"
      ],
      "metadata": {
        "colab": {
          "base_uri": "https://localhost:8080/"
        },
        "id": "eRjE7aNURyM4",
        "outputId": "3dc5b6bf-9319-4942-82ea-570bb18a1a5e"
      },
      "execution_count": null,
      "outputs": [
        {
          "output_type": "execute_result",
          "data": {
            "text/plain": [
              "41.222062523204926"
            ]
          },
          "metadata": {},
          "execution_count": 106
        }
      ]
    },
    {
      "cell_type": "code",
      "source": [
        "sns.distplot(new_y_test-lr_prd)"
      ],
      "metadata": {
        "colab": {
          "base_uri": "https://localhost:8080/",
          "height": 378
        },
        "id": "pPjg9hItRyQs",
        "outputId": "5387fa74-107f-4597-fc2c-5f962626d2c2"
      },
      "execution_count": null,
      "outputs": [
        {
          "output_type": "stream",
          "name": "stderr",
          "text": [
            "/usr/local/lib/python3.7/dist-packages/seaborn/distributions.py:2619: FutureWarning: `distplot` is a deprecated function and will be removed in a future version. Please adapt your code to use either `displot` (a figure-level function with similar flexibility) or `histplot` (an axes-level function for histograms).\n",
            "  warnings.warn(msg, FutureWarning)\n"
          ]
        },
        {
          "output_type": "execute_result",
          "data": {
            "text/plain": [
              "<matplotlib.axes._subplots.AxesSubplot at 0x7f86fb2295d0>"
            ]
          },
          "metadata": {},
          "execution_count": 109
        },
        {
          "output_type": "display_data",
          "data": {
            "text/plain": [
              "<Figure size 432x288 with 1 Axes>"
            ],
            "image/png": "[encoded data removed]"
          },
          "metadata": {}
        }
      ]
    },
    {
      "cell_type": "markdown",
      "source": [
        "**#Redge Model**"
      ],
      "metadata": {
        "id": "iQM3GiytYvWK"
      }
    },
    {
      "cell_type": "code",
      "source": [
        "#redge Model\n",
        "from sklearn.linear_model import Ridge\n",
        "rd=Ridge()"
      ],
      "metadata": {
        "id": "7KW7imPo8G4Z"
      },
      "execution_count": null,
      "outputs": []
    },
    {
      "cell_type": "code",
      "source": [
        "rd.fit(pr_x_train,pr_y_train)"
      ],
      "metadata": {
        "colab": {
          "base_uri": "https://localhost:8080/"
        },
        "id": "io6lPOiv8G7u",
        "outputId": "722f8ecc-e6f9-4633-e7ca-f14418f008fd"
      },
      "execution_count": null,
      "outputs": [
        {
          "output_type": "execute_result",
          "data": {
            "text/plain": [
              "Ridge()"
            ]
          },
          "metadata": {},
          "execution_count": 114
        }
      ]
    },
    {
      "cell_type": "code",
      "source": [
        "rd_p=rd.predict(pr_x_test)\n",
        "rd_p"
      ],
      "metadata": {
        "colab": {
          "base_uri": "https://localhost:8080/"
        },
        "id": "DVDBrByGVhs2",
        "outputId": "e0a0af4c-30e9-4725-e118-f74ec06b6a48"
      },
      "execution_count": null,
      "outputs": [
        {
          "output_type": "execute_result",
          "data": {
            "text/plain": [
              "array([241971.09564406,  74319.95961153, 149317.87121042, 141466.10770099,\n",
              "       146583.77061856,  83108.38901168, 161936.18185766, 196796.5081322 ,\n",
              "        57506.19466385,  94407.7522506 ,  75463.15991363, 336243.9971206 ,\n",
              "       100997.74246504, 216201.54190331, 324631.80446395, 177054.34277721,\n",
              "       171876.70445674, 340970.53340536, 233335.38906046, 187595.10922258,\n",
              "       359158.74422717,  67355.24555218, 136136.91372486, 188659.50510482,\n",
              "       197064.7172169 , 192501.30685471, 162351.54464604, 301144.46132964,\n",
              "        48055.93130007, 321469.7849129 , 104807.32024082, 158287.71378277,\n",
              "       153826.85562965, 191039.14302291, 233057.77190529, 266142.34456078,\n",
              "       124219.84572882, 191979.76899178, 100166.79415607, 125300.60611756,\n",
              "        75290.60918775, 149381.1401343 , 220259.68611287,  67784.41672141,\n",
              "       124474.53717096, 214020.46023526, 194385.54192842, 194710.01666073,\n",
              "       130151.6087205 , 284448.49199374, 293898.26325942, 155811.80769121,\n",
              "        65511.84658342,  56050.65343147, 103637.65146425, 139750.61077306,\n",
              "       235311.58052603, 230632.60730636, 314796.18175001, 177116.49585887,\n",
              "       231396.16046355, 141506.1593566 , 182054.2873052 , 283699.73789663,\n",
              "       151250.09186812, 150411.28149785, 103688.62545429, 228301.44620277,\n",
              "        57017.365727  , 163957.05989388, 111033.21400176, 195705.18937377,\n",
              "       169476.30508186, 117785.04556416, 137374.3481307 , 129628.23190612,\n",
              "       305321.17977017, 176184.81232522, 322378.27104936, 136379.69199256,\n",
              "       201726.53497358,  92804.02747084, 214178.84329667, 273244.55813201,\n",
              "       410230.28233677, 120826.11787304, 275728.95183815, 201128.99644756,\n",
              "       265327.34781274, 202785.71195599, 180911.10964086, 128511.17076349,\n",
              "       175979.81507262, 109692.24581197, 173300.95050362, 139486.03938213,\n",
              "       105818.60263275, 208698.25307689,  93705.6728838 , 149734.40116284,\n",
              "       195063.4411517 , 160625.72365775, 223749.71232289, 216925.00435942,\n",
              "       263984.40429836, 202861.52517599, 179318.01160834, 327477.26000839,\n",
              "        83971.18269585, 252508.75348618,  71895.35094442, 161449.0013745 ,\n",
              "       169443.26599237, 159942.37030883, 139412.00096664, 171237.00588116,\n",
              "       152831.57169712, 209074.90284975, 161126.38142374, 263511.74963029,\n",
              "       194534.33450943, 169140.41516486, 153956.93237264, 244009.37127614,\n",
              "       141121.21395553, 241593.05471294, 105466.07237122,  82718.45016553,\n",
              "       200865.27647297,  98565.30926923, 130946.99675533, 139575.10892291,\n",
              "       129316.03779799,  44650.11960235, 188807.9419071 , 128196.29167278,\n",
              "       260091.1448416 , 234133.40287709, 131462.22707406,  82644.63357208,\n",
              "       225488.784317  , 213277.71276315, 117322.6376521 , 176778.54877605,\n",
              "       210777.66619684, 312436.26875221])"
            ]
          },
          "metadata": {},
          "execution_count": 127
        }
      ]
    },
    {
      "cell_type": "code",
      "source": [
        "rd.coef_"
      ],
      "metadata": {
        "colab": {
          "base_uri": "https://localhost:8080/"
        },
        "id": "tbF-j6wm8HEM",
        "outputId": "e1bab017-109d-4f6c-d410-793269f1e415"
      },
      "execution_count": null,
      "outputs": [
        {
          "output_type": "execute_result",
          "data": {
            "text/plain": [
              "array([-1.59232857e+03,  1.33506248e+02,  3.78149192e-01,  2.76222111e+04,\n",
              "       -1.20782245e+03,  1.16210036e+03, -1.23250459e+04,  2.51285888e+02,\n",
              "        1.52118028e+02,  2.42991140e+02, -1.17687552e+03, -7.42931271e+03,\n",
              "       -3.29194429e+03, -8.34621631e+02,  1.36026810e+04,  4.29339625e+03,\n",
              "        0.00000000e+00,  1.84704346e+02,  2.63023452e+03,  7.36950734e+03,\n",
              "       -4.41076123e+02,  5.08827599e+01,  6.24634217e+03,  6.24202167e+01,\n",
              "       -4.23740983e+02,  7.12859624e+03,  9.97580865e+02, -3.81776084e+03,\n",
              "        3.74364095e+02, -1.57084348e+02, -2.67379317e+03, -1.82769403e+02,\n",
              "       -1.79639790e+02,  2.12128198e+02, -3.03778585e+03, -4.85822967e+03,\n",
              "       -1.04194056e+03,  4.76547657e+01,  5.22219145e+01,  3.56671886e+00,\n",
              "        3.92977161e+02, -1.40683425e+03,  4.23550283e+03,  3.52170836e+03,\n",
              "       -1.05778952e+04, -2.61503030e+04,  3.17684521e+03,  2.69123852e+03,\n",
              "        9.42859815e+03, -3.18096427e+03,  1.08454312e+03,  2.17674102e+02,\n",
              "        7.89783111e+03,  3.14021061e+00, -2.74578003e+03, -8.33278618e+02,\n",
              "        2.19513364e+03,  1.58604124e+01,  2.15549857e+01,  8.68877122e+01,\n",
              "       -7.26541381e-01, -3.02124332e+02, -9.97241404e+02,  3.55643120e+03])"
            ]
          },
          "metadata": {},
          "execution_count": 128
        }
      ]
    },
    {
      "cell_type": "code",
      "source": [
        "rd_df=pd.DataFrame({\"coeff\":list(rd.coef_),\"column\":list(pr_x)})"
      ],
      "metadata": {
        "id": "7hpwktsn8HHN"
      },
      "execution_count": null,
      "outputs": []
    },
    {
      "cell_type": "code",
      "source": [
        "rd_r2=rd.score(pr_x_train,pr_y_train)\n",
        "rd_r2"
      ],
      "metadata": {
        "colab": {
          "base_uri": "https://localhost:8080/"
        },
        "id": "-LrzbPCF9A9O",
        "outputId": "eef11948-a91b-4f2f-c589-fbcf6a460328"
      },
      "execution_count": null,
      "outputs": [
        {
          "output_type": "execute_result",
          "data": {
            "text/plain": [
              "0.86847284203108"
            ]
          },
          "metadata": {},
          "execution_count": 130
        }
      ]
    },
    {
      "cell_type": "code",
      "source": [
        "adj_r3=1-(((1-rd_r2)*(1313-1))/(1313-13-1))\n",
        "adj_r3"
      ],
      "metadata": {
        "colab": {
          "base_uri": "https://localhost:8080/"
        },
        "id": "T56jVdpE9BGi",
        "outputId": "522b1043-62a7-415e-f627-34ef34b7a9aa"
      },
      "execution_count": null,
      "outputs": [
        {
          "output_type": "execute_result",
          "data": {
            "text/plain": [
              "0.8671565579251554"
            ]
          },
          "metadata": {},
          "execution_count": 147
        }
      ]
    },
    {
      "cell_type": "code",
      "source": [
        "from sklearn import metrics"
      ],
      "metadata": {
        "id": "YxSJ_MzvUmxR"
      },
      "execution_count": null,
      "outputs": []
    },
    {
      "cell_type": "code",
      "source": [
        "prop_mae1=metrics.mean_absolute_error(pr_y_test,lr_Np)\n",
        "prop_mae1"
      ],
      "metadata": {
        "colab": {
          "base_uri": "https://localhost:8080/"
        },
        "id": "jD2kCsDXUm10",
        "outputId": "b3b39501-60b1-49da-938d-c40d3ce0d099"
      },
      "execution_count": null,
      "outputs": [
        {
          "output_type": "execute_result",
          "data": {
            "text/plain": [
              "85465.22930881707"
            ]
          },
          "metadata": {},
          "execution_count": 133
        }
      ]
    },
    {
      "cell_type": "code",
      "source": [
        "prop_mse1=metrics.mean_squared_error(pr_y_test,lr_Np)\n",
        "prop_mse1"
      ],
      "metadata": {
        "colab": {
          "base_uri": "https://localhost:8080/"
        },
        "id": "EpB7e9lBUm37",
        "outputId": "0aafec2f-abf4-4812-b386-b58f2ac0c65e"
      },
      "execution_count": null,
      "outputs": [
        {
          "output_type": "execute_result",
          "data": {
            "text/plain": [
              "12210550254.315605"
            ]
          },
          "metadata": {},
          "execution_count": 134
        }
      ]
    },
    {
      "cell_type": "code",
      "source": [
        "prop_rmse1=np.sqrt(prop_mse1)\n",
        "prop_rmse1"
      ],
      "metadata": {
        "colab": {
          "base_uri": "https://localhost:8080/"
        },
        "id": "Zd6uW3CvUm7e",
        "outputId": "6e48e7f8-a95a-46cf-a991-a06a84977c4a"
      },
      "execution_count": null,
      "outputs": [
        {
          "output_type": "execute_result",
          "data": {
            "text/plain": [
              "110501.35860846058"
            ]
          },
          "metadata": {},
          "execution_count": 135
        }
      ]
    },
    {
      "cell_type": "code",
      "source": [
        "error=pr_y_test-rd_p"
      ],
      "metadata": {
        "id": "SzojEdyiUnBy"
      },
      "execution_count": null,
      "outputs": []
    },
    {
      "cell_type": "code",
      "source": [
        "error_abs=np.absolute(error)\n",
        "error_abs"
      ],
      "metadata": {
        "colab": {
          "base_uri": "https://localhost:8080/"
        },
        "id": "7YhaRz7oV0up",
        "outputId": "00f2dc67-9952-470b-c4bc-864e3aab0b85"
      },
      "execution_count": null,
      "outputs": [
        {
          "output_type": "execute_result",
          "data": {
            "text/plain": [
              "1419    18971.095644\n",
              "494     16980.040388\n",
              "1411     9317.871210\n",
              "569      5506.107701\n",
              "486      9416.229381\n",
              "            ...     \n",
              "1281    33277.712763\n",
              "879     19177.362348\n",
              "546     33221.451224\n",
              "974     43277.666197\n",
              "568      4163.731248\n",
              "Name: Sale_Price, Length: 146, dtype: float64"
            ]
          },
          "metadata": {},
          "execution_count": 137
        }
      ]
    },
    {
      "cell_type": "code",
      "source": [
        "prop_mape1=np.mean(error_abs/pr_y_test)*100\n",
        "prop_mape1"
      ],
      "metadata": {
        "colab": {
          "base_uri": "https://localhost:8080/"
        },
        "id": "ZKW1y3poV5OY",
        "outputId": "5fa9abe9-df5d-4628-fc4d-361cad0890c2"
      },
      "execution_count": null,
      "outputs": [
        {
          "output_type": "execute_result",
          "data": {
            "text/plain": [
              "13.830149129536409"
            ]
          },
          "metadata": {},
          "execution_count": 138
        }
      ]
    },
    {
      "cell_type": "code",
      "source": [
        "prop_acc2=100-prop_mape1\n",
        "prop_acc2"
      ],
      "metadata": {
        "colab": {
          "base_uri": "https://localhost:8080/"
        },
        "id": "MilTq-vDV_U-",
        "outputId": "a4140939-b989-430d-dda2-42c750e8e247"
      },
      "execution_count": null,
      "outputs": [
        {
          "output_type": "execute_result",
          "data": {
            "text/plain": [
              "86.16985087046359"
            ]
          },
          "metadata": {},
          "execution_count": 140
        }
      ]
    },
    {
      "cell_type": "code",
      "source": [
        "plt.scatter(pr_y_test,rd_p)"
      ],
      "metadata": {
        "colab": {
          "base_uri": "https://localhost:8080/",
          "height": 289
        },
        "id": "MKa9av85WbGB",
        "outputId": "140005ae-c70f-46cc-b41f-b19a7feb61b3"
      },
      "execution_count": null,
      "outputs": [
        {
          "output_type": "execute_result",
          "data": {
            "text/plain": [
              "<matplotlib.collections.PathCollection at 0x7f86fb13b410>"
            ]
          },
          "metadata": {},
          "execution_count": 141
        },
        {
          "output_type": "display_data",
          "data": {
            "text/plain": [
              "<Figure size 432x288 with 1 Axes>"
            ],
            "image/png": "[encoded data removed]"
          },
          "metadata": {}
        }
      ]
    },
    {
      "cell_type": "code",
      "source": [
        ""
      ],
      "metadata": {
        "id": "INWl5_EX9BSS"
      },
      "execution_count": null,
      "outputs": []
    },
    {
      "cell_type": "markdown",
      "source": [
        "creating report of all the models using linear regression,Lasso,Ridge\n"
      ],
      "metadata": {
        "id": "oH9fRJ63XLGR"
      }
    },
    {
      "cell_type": "code",
      "source": [
        "l1=[\"Linear\",\"lasso\",\"Ridge\"]\n",
        "l2=[R2,lo_r2,rd_r2]\n",
        "l3=[adj_R2,lo_adj_R2,adj_r3]\n"
      ],
      "metadata": {
        "id": "IJESfMXf9BZj"
      },
      "execution_count": null,
      "outputs": []
    },
    {
      "cell_type": "markdown",
      "source": [
        "summerize all the result"
      ],
      "metadata": {
        "id": "JW_lWhZdYFgc"
      }
    },
    {
      "cell_type": "code",
      "source": [
        "final_df=pd.DataFrame({\"model_name\":l1,\"R_square\":l2,\"adj_r2\":l3})"
      ],
      "metadata": {
        "id": "pFolPMBh8H7Z"
      },
      "execution_count": null,
      "outputs": []
    },
    {
      "cell_type": "code",
      "source": [
        "final_df"
      ],
      "metadata": {
        "id": "UETqZKwg8ICt",
        "colab": {
          "base_uri": "https://localhost:8080/",
          "height": 143
        },
        "outputId": "7aad38ee-3347-4abf-9ba6-0d38d029cc4c"
      },
      "execution_count": null,
      "outputs": [
        {
          "output_type": "execute_result",
          "data": {
            "text/plain": [
              "  model_name  R_square    adj_r2\n",
              "0     Linear  0.868517  0.860658\n",
              "1      lasso  0.868517  0.868410\n",
              "2      Ridge  0.868473  0.867157"
            ],
            "text/html": [
              "\n",
              "  <div id=\"df-66c1ea90-395b-421e-9d0b-032d15fb74c7\">\n",
              "    <div class=\"colab-df-container\">\n",
              "      <div>\n",
              "<style scoped>\n",
              "    .dataframe tbody tr th:only-of-type {\n",
              "        vertical-align: middle;\n",
              "    }\n",
              "\n",
              "    .dataframe tbody tr th {\n",
              "        vertical-align: top;\n",
              "    }\n",
              "\n",
              "    .dataframe thead th {\n",
              "        text-align: right;\n",
              "    }\n",
              "</style>\n",
              "<table border=\"1\" class=\"dataframe\">\n",
              "  <thead>\n",
              "    <tr style=\"text-align: right;\">\n",
              "      <th></th>\n",
              "      <th>model_name</th>\n",
              "      <th>R_square</th>\n",
              "      <th>adj_r2</th>\n",
              "    </tr>\n",
              "  </thead>\n",
              "  <tbody>\n",
              "    <tr>\n",
              "      <th>0</th>\n",
              "      <td>Linear</td>\n",
              "      <td>0.868517</td>\n",
              "      <td>0.860658</td>\n",
              "    </tr>\n",
              "    <tr>\n",
              "      <th>1</th>\n",
              "      <td>lasso</td>\n",
              "      <td>0.868517</td>\n",
              "      <td>0.868410</td>\n",
              "    </tr>\n",
              "    <tr>\n",
              "      <th>2</th>\n",
              "      <td>Ridge</td>\n",
              "      <td>0.868473</td>\n",
              "      <td>0.867157</td>\n",
              "    </tr>\n",
              "  </tbody>\n",
              "</table>\n",
              "</div>\n",
              "      <button class=\"colab-df-convert\" onclick=\"convertToInteractive('df-66c1ea90-395b-421e-9d0b-032d15fb74c7')\"\n",
              "              title=\"Convert this dataframe to an interactive table.\"\n",
              "              style=\"display:none;\">\n",
              "        \n",
              "  <svg xmlns=\"http://www.w3.org/2000/svg\" height=\"24px\"viewBox=\"0 0 24 24\"\n",
              "       width=\"24px\">\n",
              "    <path d=\"M0 0h24v24H0V0z\" fill=\"none\"/>\n",
              "    <path d=\"M18.56 5.44l.94 2.06.94-2.06 2.06-.94-2.06-.94-.94-2.06-.94 2.06-2.06.94zm-11 1L8.5 8.5l.94-2.06 2.06-.94-2.06-.94L8.5 2.5l-.94 2.06-2.06.94zm10 10l.94 2.06.94-2.06 2.06-.94-2.06-.94-.94-2.06-.94 2.06-2.06.94z\"/><path d=\"M17.41 7.96l-1.37-1.37c-.4-.4-.92-.59-1.43-.59-.52 0-1.04.2-1.43.59L10.3 9.45l-7.72 7.72c-.78.78-.78 2.05 0 2.83L4 21.41c.39.39.9.59 1.41.59.51 0 1.02-.2 1.41-.59l7.78-7.78 2.81-2.81c.8-.78.8-2.07 0-2.86zM5.41 20L4 18.59l7.72-7.72 1.47 1.35L5.41 20z\"/>\n",
              "  </svg>\n",
              "      </button>\n",
              "      \n",
              "  <style>\n",
              "    .colab-df-container {\n",
              "      display:flex;\n",
              "      flex-wrap:wrap;\n",
              "      gap: 12px;\n",
              "    }\n",
              "\n",
              "    .colab-df-convert {\n",
              "      background-color: #E8F0FE;\n",
              "      border: none;\n",
              "      border-radius: 50%;\n",
              "      cursor: pointer;\n",
              "      display: none;\n",
              "      fill: #1967D2;\n",
              "      height: 32px;\n",
              "      padding: 0 0 0 0;\n",
              "      width: 32px;\n",
              "    }\n",
              "\n",
              "    .colab-df-convert:hover {\n",
              "      background-color: #E2EBFA;\n",
              "      box-shadow: 0px 1px 2px rgba(60, 64, 67, 0.3), 0px 1px 3px 1px rgba(60, 64, 67, 0.15);\n",
              "      fill: #174EA6;\n",
              "    }\n",
              "\n",
              "    [theme=dark] .colab-df-convert {\n",
              "      background-color: #3B4455;\n",
              "      fill: #D2E3FC;\n",
              "    }\n",
              "\n",
              "    [theme=dark] .colab-df-convert:hover {\n",
              "      background-color: #434B5C;\n",
              "      box-shadow: 0px 1px 3px 1px rgba(0, 0, 0, 0.15);\n",
              "      filter: drop-shadow(0px 1px 2px rgba(0, 0, 0, 0.3));\n",
              "      fill: #FFFFFF;\n",
              "    }\n",
              "  </style>\n",
              "\n",
              "      <script>\n",
              "        const buttonEl =\n",
              "          document.querySelector('#df-66c1ea90-395b-421e-9d0b-032d15fb74c7 button.colab-df-convert');\n",
              "        buttonEl.style.display =\n",
              "          google.colab.kernel.accessAllowed ? 'block' : 'none';\n",
              "\n",
              "        async function convertToInteractive(key) {\n",
              "          const element = document.querySelector('#df-66c1ea90-395b-421e-9d0b-032d15fb74c7');\n",
              "          const dataTable =\n",
              "            await google.colab.kernel.invokeFunction('convertToInteractive',\n",
              "                                                     [key], {});\n",
              "          if (!dataTable) return;\n",
              "\n",
              "          const docLinkHtml = 'Like what you see? Visit the ' +\n",
              "            '<a target=\"_blank\" href=https://colab.research.google.com/notebooks/data_table.ipynb>data table notebook</a>'\n",
              "            + ' to learn more about interactive tables.';\n",
              "          element.innerHTML = '';\n",
              "          dataTable['output_type'] = 'display_data';\n",
              "          await google.colab.output.renderOutput(dataTable, element);\n",
              "          const docLink = document.createElement('div');\n",
              "          docLink.innerHTML = docLinkHtml;\n",
              "          element.appendChild(docLink);\n",
              "        }\n",
              "      </script>\n",
              "    </div>\n",
              "  </div>\n",
              "  "
            ]
          },
          "metadata": {},
          "execution_count": 153
        }
      ]
    }
  ]
}